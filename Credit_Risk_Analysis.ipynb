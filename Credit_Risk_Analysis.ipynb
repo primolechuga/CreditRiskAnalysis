{
  "cells": [
    {
      "cell_type": "markdown",
      "metadata": {
        "id": "3zjj50YHMx3g"
      },
      "source": [
        "# Credit Risk Analysis"
      ]
    },
    {
      "cell_type": "markdown",
      "metadata": {
        "id": "iU3jpFq9Mx3h"
      },
      "source": [
        "En este notebook vamos a analizar un dataset de créditos y vamos a intentar predecir si un cliente es un buen o mal pagador. Para ello vamos a utilizar un dataset de Kaggle que contiene información sobre créditos de un banco. link: https://www.kaggle.com/datasets/ranadeep/credit-risk-dataset"
      ]
    },
    {
      "cell_type": "code",
      "execution_count": null,
      "metadata": {
        "id": "J7rqdj3XMx3h"
      },
      "outputs": [],
      "source": [
        "import pandas as pd\n",
        "import numpy as np\n",
        "\n",
        "import seaborn as sns\n",
        "import matplotlib.pyplot as plt\n",
        "\n",
        "from sklearn.impute import SimpleImputer\n",
        "from sklearn.model_selection import train_test_split\n",
        "from sklearn.preprocessing import OneHotEncoder\n",
        "from sklearn.preprocessing import OrdinalEncoder\n",
        "from sklearn.discriminant_analysis import StandardScaler\n",
        "from sklearn.ensemble import RandomForestClassifier\n",
        "from sklearn.preprocessing import LabelEncoder\n",
        "import tensorflow as tf\n",
        "from tensorflow.keras import layers, models\n",
        "from imblearn import keras\n",
        "from sklearn.utils.class_weight import compute_class_weight\n",
        "import keras.backend as K\n",
        "\n",
        "from sklearn.preprocessing import LabelEncoder\n",
        "from imblearn.combine import SMOTEENN\n",
        "from datetime import datetime\n",
        "import joblib"
      ]
    },
    {
      "cell_type": "markdown",
      "metadata": {
        "id": "WTb3P8b9Mx3i"
      },
      "source": [
        "## Exploración inicial de los datos"
      ]
    },
    {
      "cell_type": "code",
      "execution_count": null,
      "metadata": {
        "id": "L_ge_utlMx3i",
        "outputId": "597a90fd-a98e-4e33-b7b5-76ab7c77c8a9"
      },
      "outputs": [
        {
          "name": "stderr",
          "output_type": "stream",
          "text": [
            "C:\\Users\\Juan Esteban\\AppData\\Local\\Temp\\ipykernel_14632\\1590592134.py:2: DtypeWarning: Columns (19,55) have mixed types. Specify dtype option on import or set low_memory=False.\n",
            "  df = pd.read_csv('./loan/loan.csv')\n"
          ]
        }
      ],
      "source": [
        "#Cargar el dataset\n",
        "df = pd.read_csv('./loan/loan.csv')"
      ]
    },
    {
      "cell_type": "code",
      "execution_count": null,
      "metadata": {
        "id": "yD5lnT_WMx3j",
        "outputId": "397df646-1061-4dbf-f08f-5eb8c48ac6b6"
      },
      "outputs": [
        {
          "data": {
            "text/html": [
              "<div>\n",
              "<style scoped>\n",
              "    .dataframe tbody tr th:only-of-type {\n",
              "        vertical-align: middle;\n",
              "    }\n",
              "\n",
              "    .dataframe tbody tr th {\n",
              "        vertical-align: top;\n",
              "    }\n",
              "\n",
              "    .dataframe thead th {\n",
              "        text-align: right;\n",
              "    }\n",
              "</style>\n",
              "<table border=\"1\" class=\"dataframe\">\n",
              "  <thead>\n",
              "    <tr style=\"text-align: right;\">\n",
              "      <th></th>\n",
              "      <th>id</th>\n",
              "      <th>member_id</th>\n",
              "      <th>loan_amnt</th>\n",
              "      <th>funded_amnt</th>\n",
              "      <th>funded_amnt_inv</th>\n",
              "      <th>term</th>\n",
              "      <th>int_rate</th>\n",
              "      <th>installment</th>\n",
              "      <th>grade</th>\n",
              "      <th>sub_grade</th>\n",
              "      <th>...</th>\n",
              "      <th>total_bal_il</th>\n",
              "      <th>il_util</th>\n",
              "      <th>open_rv_12m</th>\n",
              "      <th>open_rv_24m</th>\n",
              "      <th>max_bal_bc</th>\n",
              "      <th>all_util</th>\n",
              "      <th>total_rev_hi_lim</th>\n",
              "      <th>inq_fi</th>\n",
              "      <th>total_cu_tl</th>\n",
              "      <th>inq_last_12m</th>\n",
              "    </tr>\n",
              "  </thead>\n",
              "  <tbody>\n",
              "    <tr>\n",
              "      <th>0</th>\n",
              "      <td>1077501</td>\n",
              "      <td>1296599</td>\n",
              "      <td>5000.0</td>\n",
              "      <td>5000.0</td>\n",
              "      <td>4975.0</td>\n",
              "      <td>36 months</td>\n",
              "      <td>10.65</td>\n",
              "      <td>162.87</td>\n",
              "      <td>B</td>\n",
              "      <td>B2</td>\n",
              "      <td>...</td>\n",
              "      <td>NaN</td>\n",
              "      <td>NaN</td>\n",
              "      <td>NaN</td>\n",
              "      <td>NaN</td>\n",
              "      <td>NaN</td>\n",
              "      <td>NaN</td>\n",
              "      <td>NaN</td>\n",
              "      <td>NaN</td>\n",
              "      <td>NaN</td>\n",
              "      <td>NaN</td>\n",
              "    </tr>\n",
              "    <tr>\n",
              "      <th>1</th>\n",
              "      <td>1077430</td>\n",
              "      <td>1314167</td>\n",
              "      <td>2500.0</td>\n",
              "      <td>2500.0</td>\n",
              "      <td>2500.0</td>\n",
              "      <td>60 months</td>\n",
              "      <td>15.27</td>\n",
              "      <td>59.83</td>\n",
              "      <td>C</td>\n",
              "      <td>C4</td>\n",
              "      <td>...</td>\n",
              "      <td>NaN</td>\n",
              "      <td>NaN</td>\n",
              "      <td>NaN</td>\n",
              "      <td>NaN</td>\n",
              "      <td>NaN</td>\n",
              "      <td>NaN</td>\n",
              "      <td>NaN</td>\n",
              "      <td>NaN</td>\n",
              "      <td>NaN</td>\n",
              "      <td>NaN</td>\n",
              "    </tr>\n",
              "    <tr>\n",
              "      <th>2</th>\n",
              "      <td>1077175</td>\n",
              "      <td>1313524</td>\n",
              "      <td>2400.0</td>\n",
              "      <td>2400.0</td>\n",
              "      <td>2400.0</td>\n",
              "      <td>36 months</td>\n",
              "      <td>15.96</td>\n",
              "      <td>84.33</td>\n",
              "      <td>C</td>\n",
              "      <td>C5</td>\n",
              "      <td>...</td>\n",
              "      <td>NaN</td>\n",
              "      <td>NaN</td>\n",
              "      <td>NaN</td>\n",
              "      <td>NaN</td>\n",
              "      <td>NaN</td>\n",
              "      <td>NaN</td>\n",
              "      <td>NaN</td>\n",
              "      <td>NaN</td>\n",
              "      <td>NaN</td>\n",
              "      <td>NaN</td>\n",
              "    </tr>\n",
              "    <tr>\n",
              "      <th>3</th>\n",
              "      <td>1076863</td>\n",
              "      <td>1277178</td>\n",
              "      <td>10000.0</td>\n",
              "      <td>10000.0</td>\n",
              "      <td>10000.0</td>\n",
              "      <td>36 months</td>\n",
              "      <td>13.49</td>\n",
              "      <td>339.31</td>\n",
              "      <td>C</td>\n",
              "      <td>C1</td>\n",
              "      <td>...</td>\n",
              "      <td>NaN</td>\n",
              "      <td>NaN</td>\n",
              "      <td>NaN</td>\n",
              "      <td>NaN</td>\n",
              "      <td>NaN</td>\n",
              "      <td>NaN</td>\n",
              "      <td>NaN</td>\n",
              "      <td>NaN</td>\n",
              "      <td>NaN</td>\n",
              "      <td>NaN</td>\n",
              "    </tr>\n",
              "    <tr>\n",
              "      <th>4</th>\n",
              "      <td>1075358</td>\n",
              "      <td>1311748</td>\n",
              "      <td>3000.0</td>\n",
              "      <td>3000.0</td>\n",
              "      <td>3000.0</td>\n",
              "      <td>60 months</td>\n",
              "      <td>12.69</td>\n",
              "      <td>67.79</td>\n",
              "      <td>B</td>\n",
              "      <td>B5</td>\n",
              "      <td>...</td>\n",
              "      <td>NaN</td>\n",
              "      <td>NaN</td>\n",
              "      <td>NaN</td>\n",
              "      <td>NaN</td>\n",
              "      <td>NaN</td>\n",
              "      <td>NaN</td>\n",
              "      <td>NaN</td>\n",
              "      <td>NaN</td>\n",
              "      <td>NaN</td>\n",
              "      <td>NaN</td>\n",
              "    </tr>\n",
              "  </tbody>\n",
              "</table>\n",
              "<p>5 rows × 74 columns</p>\n",
              "</div>"
            ],
            "text/plain": [
              "        id  member_id  loan_amnt  funded_amnt  funded_amnt_inv        term  \\\n",
              "0  1077501    1296599     5000.0       5000.0           4975.0   36 months   \n",
              "1  1077430    1314167     2500.0       2500.0           2500.0   60 months   \n",
              "2  1077175    1313524     2400.0       2400.0           2400.0   36 months   \n",
              "3  1076863    1277178    10000.0      10000.0          10000.0   36 months   \n",
              "4  1075358    1311748     3000.0       3000.0           3000.0   60 months   \n",
              "\n",
              "   int_rate  installment grade sub_grade  ... total_bal_il il_util  \\\n",
              "0     10.65       162.87     B        B2  ...          NaN     NaN   \n",
              "1     15.27        59.83     C        C4  ...          NaN     NaN   \n",
              "2     15.96        84.33     C        C5  ...          NaN     NaN   \n",
              "3     13.49       339.31     C        C1  ...          NaN     NaN   \n",
              "4     12.69        67.79     B        B5  ...          NaN     NaN   \n",
              "\n",
              "  open_rv_12m  open_rv_24m max_bal_bc all_util total_rev_hi_lim inq_fi  \\\n",
              "0         NaN          NaN        NaN      NaN              NaN    NaN   \n",
              "1         NaN          NaN        NaN      NaN              NaN    NaN   \n",
              "2         NaN          NaN        NaN      NaN              NaN    NaN   \n",
              "3         NaN          NaN        NaN      NaN              NaN    NaN   \n",
              "4         NaN          NaN        NaN      NaN              NaN    NaN   \n",
              "\n",
              "  total_cu_tl inq_last_12m  \n",
              "0         NaN          NaN  \n",
              "1         NaN          NaN  \n",
              "2         NaN          NaN  \n",
              "3         NaN          NaN  \n",
              "4         NaN          NaN  \n",
              "\n",
              "[5 rows x 74 columns]"
            ]
          },
          "execution_count": 3,
          "metadata": {},
          "output_type": "execute_result"
        }
      ],
      "source": [
        "#Verificar los datos\n",
        "df.head()"
      ]
    },
    {
      "cell_type": "code",
      "execution_count": null,
      "metadata": {
        "id": "Hs1wFR7sMx3j",
        "outputId": "66602c2b-bb92-445e-f052-4d75639aec83"
      },
      "outputs": [
        {
          "name": "stdout",
          "output_type": "stream",
          "text": [
            "<class 'pandas.core.frame.DataFrame'>\n",
            "RangeIndex: 887379 entries, 0 to 887378\n",
            "Data columns (total 74 columns):\n",
            " #   Column                       Non-Null Count   Dtype  \n",
            "---  ------                       --------------   -----  \n",
            " 0   id                           887379 non-null  int64  \n",
            " 1   member_id                    887379 non-null  int64  \n",
            " 2   loan_amnt                    887379 non-null  float64\n",
            " 3   funded_amnt                  887379 non-null  float64\n",
            " 4   funded_amnt_inv              887379 non-null  float64\n",
            " 5   term                         887379 non-null  object \n",
            " 6   int_rate                     887379 non-null  float64\n",
            " 7   installment                  887379 non-null  float64\n",
            " 8   grade                        887379 non-null  object \n",
            " 9   sub_grade                    887379 non-null  object \n",
            " 10  emp_title                    835917 non-null  object \n",
            " 11  emp_length                   842554 non-null  object \n",
            " 12  home_ownership               887379 non-null  object \n",
            " 13  annual_inc                   887375 non-null  float64\n",
            " 14  verification_status          887379 non-null  object \n",
            " 15  issue_d                      887379 non-null  object \n",
            " 16  loan_status                  887379 non-null  object \n",
            " 17  pymnt_plan                   887379 non-null  object \n",
            " 18  url                          887379 non-null  object \n",
            " 19  desc                         126026 non-null  object \n",
            " 20  purpose                      887379 non-null  object \n",
            " 21  title                        887226 non-null  object \n",
            " 22  zip_code                     887379 non-null  object \n",
            " 23  addr_state                   887379 non-null  object \n",
            " 24  dti                          887379 non-null  float64\n",
            " 25  delinq_2yrs                  887350 non-null  float64\n",
            " 26  earliest_cr_line             887350 non-null  object \n",
            " 27  inq_last_6mths               887350 non-null  float64\n",
            " 28  mths_since_last_delinq       433067 non-null  float64\n",
            " 29  mths_since_last_record       137053 non-null  float64\n",
            " 30  open_acc                     887350 non-null  float64\n",
            " 31  pub_rec                      887350 non-null  float64\n",
            " 32  revol_bal                    887379 non-null  float64\n",
            " 33  revol_util                   886877 non-null  float64\n",
            " 34  total_acc                    887350 non-null  float64\n",
            " 35  initial_list_status          887379 non-null  object \n",
            " 36  out_prncp                    887379 non-null  float64\n",
            " 37  out_prncp_inv                887379 non-null  float64\n",
            " 38  total_pymnt                  887379 non-null  float64\n",
            " 39  total_pymnt_inv              887379 non-null  float64\n",
            " 40  total_rec_prncp              887379 non-null  float64\n",
            " 41  total_rec_int                887379 non-null  float64\n",
            " 42  total_rec_late_fee           887379 non-null  float64\n",
            " 43  recoveries                   887379 non-null  float64\n",
            " 44  collection_recovery_fee      887379 non-null  float64\n",
            " 45  last_pymnt_d                 869720 non-null  object \n",
            " 46  last_pymnt_amnt              887379 non-null  float64\n",
            " 47  next_pymnt_d                 634408 non-null  object \n",
            " 48  last_credit_pull_d           887326 non-null  object \n",
            " 49  collections_12_mths_ex_med   887234 non-null  float64\n",
            " 50  mths_since_last_major_derog  221703 non-null  float64\n",
            " 51  policy_code                  887379 non-null  float64\n",
            " 52  application_type             887379 non-null  object \n",
            " 53  annual_inc_joint             511 non-null     float64\n",
            " 54  dti_joint                    509 non-null     float64\n",
            " 55  verification_status_joint    511 non-null     object \n",
            " 56  acc_now_delinq               887350 non-null  float64\n",
            " 57  tot_coll_amt                 817103 non-null  float64\n",
            " 58  tot_cur_bal                  817103 non-null  float64\n",
            " 59  open_acc_6m                  21372 non-null   float64\n",
            " 60  open_il_6m                   21372 non-null   float64\n",
            " 61  open_il_12m                  21372 non-null   float64\n",
            " 62  open_il_24m                  21372 non-null   float64\n",
            " 63  mths_since_rcnt_il           20810 non-null   float64\n",
            " 64  total_bal_il                 21372 non-null   float64\n",
            " 65  il_util                      18617 non-null   float64\n",
            " 66  open_rv_12m                  21372 non-null   float64\n",
            " 67  open_rv_24m                  21372 non-null   float64\n",
            " 68  max_bal_bc                   21372 non-null   float64\n",
            " 69  all_util                     21372 non-null   float64\n",
            " 70  total_rev_hi_lim             817103 non-null  float64\n",
            " 71  inq_fi                       21372 non-null   float64\n",
            " 72  total_cu_tl                  21372 non-null   float64\n",
            " 73  inq_last_12m                 21372 non-null   float64\n",
            "dtypes: float64(49), int64(2), object(23)\n",
            "memory usage: 501.0+ MB\n"
          ]
        }
      ],
      "source": [
        "#Verificar las columnas y los tipos de datos\n",
        "df.info()"
      ]
    },
    {
      "cell_type": "code",
      "execution_count": null,
      "metadata": {
        "id": "CEnoAMqnMx3j",
        "outputId": "f36a936f-40f7-4fdd-d5a2-4941b4e22ce1"
      },
      "outputs": [
        {
          "data": {
            "text/html": [
              "<div>\n",
              "<style scoped>\n",
              "    .dataframe tbody tr th:only-of-type {\n",
              "        vertical-align: middle;\n",
              "    }\n",
              "\n",
              "    .dataframe tbody tr th {\n",
              "        vertical-align: top;\n",
              "    }\n",
              "\n",
              "    .dataframe thead th {\n",
              "        text-align: right;\n",
              "    }\n",
              "</style>\n",
              "<table border=\"1\" class=\"dataframe\">\n",
              "  <thead>\n",
              "    <tr style=\"text-align: right;\">\n",
              "      <th></th>\n",
              "      <th>id</th>\n",
              "      <th>member_id</th>\n",
              "      <th>loan_amnt</th>\n",
              "      <th>funded_amnt</th>\n",
              "      <th>funded_amnt_inv</th>\n",
              "      <th>int_rate</th>\n",
              "      <th>installment</th>\n",
              "      <th>annual_inc</th>\n",
              "      <th>dti</th>\n",
              "      <th>delinq_2yrs</th>\n",
              "      <th>...</th>\n",
              "      <th>total_bal_il</th>\n",
              "      <th>il_util</th>\n",
              "      <th>open_rv_12m</th>\n",
              "      <th>open_rv_24m</th>\n",
              "      <th>max_bal_bc</th>\n",
              "      <th>all_util</th>\n",
              "      <th>total_rev_hi_lim</th>\n",
              "      <th>inq_fi</th>\n",
              "      <th>total_cu_tl</th>\n",
              "      <th>inq_last_12m</th>\n",
              "    </tr>\n",
              "  </thead>\n",
              "  <tbody>\n",
              "    <tr>\n",
              "      <th>count</th>\n",
              "      <td>8.873790e+05</td>\n",
              "      <td>8.873790e+05</td>\n",
              "      <td>887379.000000</td>\n",
              "      <td>887379.000000</td>\n",
              "      <td>887379.000000</td>\n",
              "      <td>887379.000000</td>\n",
              "      <td>887379.000000</td>\n",
              "      <td>8.873750e+05</td>\n",
              "      <td>887379.000000</td>\n",
              "      <td>887350.000000</td>\n",
              "      <td>...</td>\n",
              "      <td>21372.000000</td>\n",
              "      <td>18617.000000</td>\n",
              "      <td>21372.000000</td>\n",
              "      <td>21372.000000</td>\n",
              "      <td>21372.000000</td>\n",
              "      <td>21372.000000</td>\n",
              "      <td>8.171030e+05</td>\n",
              "      <td>21372.000000</td>\n",
              "      <td>21372.000000</td>\n",
              "      <td>21372.000000</td>\n",
              "    </tr>\n",
              "    <tr>\n",
              "      <th>mean</th>\n",
              "      <td>3.246513e+07</td>\n",
              "      <td>3.500182e+07</td>\n",
              "      <td>14755.264605</td>\n",
              "      <td>14741.877625</td>\n",
              "      <td>14702.464383</td>\n",
              "      <td>13.246740</td>\n",
              "      <td>436.717127</td>\n",
              "      <td>7.502759e+04</td>\n",
              "      <td>18.157039</td>\n",
              "      <td>0.314442</td>\n",
              "      <td>...</td>\n",
              "      <td>36552.811389</td>\n",
              "      <td>71.535317</td>\n",
              "      <td>1.389060</td>\n",
              "      <td>2.975482</td>\n",
              "      <td>5887.979740</td>\n",
              "      <td>60.831939</td>\n",
              "      <td>3.206862e+04</td>\n",
              "      <td>0.943945</td>\n",
              "      <td>1.537058</td>\n",
              "      <td>1.977307</td>\n",
              "    </tr>\n",
              "    <tr>\n",
              "      <th>std</th>\n",
              "      <td>2.282734e+07</td>\n",
              "      <td>2.411335e+07</td>\n",
              "      <td>8435.455601</td>\n",
              "      <td>8429.897657</td>\n",
              "      <td>8442.106732</td>\n",
              "      <td>4.381867</td>\n",
              "      <td>244.186593</td>\n",
              "      <td>6.469830e+04</td>\n",
              "      <td>17.190626</td>\n",
              "      <td>0.862244</td>\n",
              "      <td>...</td>\n",
              "      <td>43103.833619</td>\n",
              "      <td>23.022862</td>\n",
              "      <td>1.520129</td>\n",
              "      <td>2.631886</td>\n",
              "      <td>5284.701239</td>\n",
              "      <td>20.013254</td>\n",
              "      <td>3.749826e+04</td>\n",
              "      <td>1.446872</td>\n",
              "      <td>2.723339</td>\n",
              "      <td>2.874067</td>\n",
              "    </tr>\n",
              "    <tr>\n",
              "      <th>min</th>\n",
              "      <td>5.473400e+04</td>\n",
              "      <td>7.047300e+04</td>\n",
              "      <td>500.000000</td>\n",
              "      <td>500.000000</td>\n",
              "      <td>0.000000</td>\n",
              "      <td>5.320000</td>\n",
              "      <td>15.670000</td>\n",
              "      <td>0.000000e+00</td>\n",
              "      <td>0.000000</td>\n",
              "      <td>0.000000</td>\n",
              "      <td>...</td>\n",
              "      <td>0.000000</td>\n",
              "      <td>0.000000</td>\n",
              "      <td>0.000000</td>\n",
              "      <td>0.000000</td>\n",
              "      <td>0.000000</td>\n",
              "      <td>0.000000</td>\n",
              "      <td>0.000000e+00</td>\n",
              "      <td>0.000000</td>\n",
              "      <td>0.000000</td>\n",
              "      <td>-4.000000</td>\n",
              "    </tr>\n",
              "    <tr>\n",
              "      <th>25%</th>\n",
              "      <td>9.206643e+06</td>\n",
              "      <td>1.087713e+07</td>\n",
              "      <td>8000.000000</td>\n",
              "      <td>8000.000000</td>\n",
              "      <td>8000.000000</td>\n",
              "      <td>9.990000</td>\n",
              "      <td>260.705000</td>\n",
              "      <td>4.500000e+04</td>\n",
              "      <td>11.910000</td>\n",
              "      <td>0.000000</td>\n",
              "      <td>...</td>\n",
              "      <td>10251.500000</td>\n",
              "      <td>58.600000</td>\n",
              "      <td>0.000000</td>\n",
              "      <td>1.000000</td>\n",
              "      <td>2411.000000</td>\n",
              "      <td>47.700000</td>\n",
              "      <td>1.390000e+04</td>\n",
              "      <td>0.000000</td>\n",
              "      <td>0.000000</td>\n",
              "      <td>0.000000</td>\n",
              "    </tr>\n",
              "    <tr>\n",
              "      <th>50%</th>\n",
              "      <td>3.443327e+07</td>\n",
              "      <td>3.709528e+07</td>\n",
              "      <td>13000.000000</td>\n",
              "      <td>13000.000000</td>\n",
              "      <td>13000.000000</td>\n",
              "      <td>12.990000</td>\n",
              "      <td>382.550000</td>\n",
              "      <td>6.500000e+04</td>\n",
              "      <td>17.650000</td>\n",
              "      <td>0.000000</td>\n",
              "      <td>...</td>\n",
              "      <td>24684.500000</td>\n",
              "      <td>74.900000</td>\n",
              "      <td>1.000000</td>\n",
              "      <td>2.000000</td>\n",
              "      <td>4483.000000</td>\n",
              "      <td>61.900000</td>\n",
              "      <td>2.370000e+04</td>\n",
              "      <td>0.000000</td>\n",
              "      <td>0.000000</td>\n",
              "      <td>2.000000</td>\n",
              "    </tr>\n",
              "    <tr>\n",
              "      <th>75%</th>\n",
              "      <td>5.490814e+07</td>\n",
              "      <td>5.847135e+07</td>\n",
              "      <td>20000.000000</td>\n",
              "      <td>20000.000000</td>\n",
              "      <td>20000.000000</td>\n",
              "      <td>16.200000</td>\n",
              "      <td>572.600000</td>\n",
              "      <td>9.000000e+04</td>\n",
              "      <td>23.950000</td>\n",
              "      <td>0.000000</td>\n",
              "      <td>...</td>\n",
              "      <td>47858.000000</td>\n",
              "      <td>87.600000</td>\n",
              "      <td>2.000000</td>\n",
              "      <td>4.000000</td>\n",
              "      <td>7771.500000</td>\n",
              "      <td>75.200000</td>\n",
              "      <td>3.980000e+04</td>\n",
              "      <td>1.000000</td>\n",
              "      <td>2.000000</td>\n",
              "      <td>3.000000</td>\n",
              "    </tr>\n",
              "    <tr>\n",
              "      <th>max</th>\n",
              "      <td>6.861706e+07</td>\n",
              "      <td>7.354484e+07</td>\n",
              "      <td>35000.000000</td>\n",
              "      <td>35000.000000</td>\n",
              "      <td>35000.000000</td>\n",
              "      <td>28.990000</td>\n",
              "      <td>1445.460000</td>\n",
              "      <td>9.500000e+06</td>\n",
              "      <td>9999.000000</td>\n",
              "      <td>39.000000</td>\n",
              "      <td>...</td>\n",
              "      <td>878459.000000</td>\n",
              "      <td>223.300000</td>\n",
              "      <td>22.000000</td>\n",
              "      <td>43.000000</td>\n",
              "      <td>127305.000000</td>\n",
              "      <td>151.400000</td>\n",
              "      <td>9.999999e+06</td>\n",
              "      <td>17.000000</td>\n",
              "      <td>35.000000</td>\n",
              "      <td>32.000000</td>\n",
              "    </tr>\n",
              "  </tbody>\n",
              "</table>\n",
              "<p>8 rows × 51 columns</p>\n",
              "</div>"
            ],
            "text/plain": [
              "                 id     member_id      loan_amnt    funded_amnt  \\\n",
              "count  8.873790e+05  8.873790e+05  887379.000000  887379.000000   \n",
              "mean   3.246513e+07  3.500182e+07   14755.264605   14741.877625   \n",
              "std    2.282734e+07  2.411335e+07    8435.455601    8429.897657   \n",
              "min    5.473400e+04  7.047300e+04     500.000000     500.000000   \n",
              "25%    9.206643e+06  1.087713e+07    8000.000000    8000.000000   \n",
              "50%    3.443327e+07  3.709528e+07   13000.000000   13000.000000   \n",
              "75%    5.490814e+07  5.847135e+07   20000.000000   20000.000000   \n",
              "max    6.861706e+07  7.354484e+07   35000.000000   35000.000000   \n",
              "\n",
              "       funded_amnt_inv       int_rate    installment    annual_inc  \\\n",
              "count    887379.000000  887379.000000  887379.000000  8.873750e+05   \n",
              "mean      14702.464383      13.246740     436.717127  7.502759e+04   \n",
              "std        8442.106732       4.381867     244.186593  6.469830e+04   \n",
              "min           0.000000       5.320000      15.670000  0.000000e+00   \n",
              "25%        8000.000000       9.990000     260.705000  4.500000e+04   \n",
              "50%       13000.000000      12.990000     382.550000  6.500000e+04   \n",
              "75%       20000.000000      16.200000     572.600000  9.000000e+04   \n",
              "max       35000.000000      28.990000    1445.460000  9.500000e+06   \n",
              "\n",
              "                 dti    delinq_2yrs  ...   total_bal_il       il_util  \\\n",
              "count  887379.000000  887350.000000  ...   21372.000000  18617.000000   \n",
              "mean       18.157039       0.314442  ...   36552.811389     71.535317   \n",
              "std        17.190626       0.862244  ...   43103.833619     23.022862   \n",
              "min         0.000000       0.000000  ...       0.000000      0.000000   \n",
              "25%        11.910000       0.000000  ...   10251.500000     58.600000   \n",
              "50%        17.650000       0.000000  ...   24684.500000     74.900000   \n",
              "75%        23.950000       0.000000  ...   47858.000000     87.600000   \n",
              "max      9999.000000      39.000000  ...  878459.000000    223.300000   \n",
              "\n",
              "        open_rv_12m   open_rv_24m     max_bal_bc      all_util  \\\n",
              "count  21372.000000  21372.000000   21372.000000  21372.000000   \n",
              "mean       1.389060      2.975482    5887.979740     60.831939   \n",
              "std        1.520129      2.631886    5284.701239     20.013254   \n",
              "min        0.000000      0.000000       0.000000      0.000000   \n",
              "25%        0.000000      1.000000    2411.000000     47.700000   \n",
              "50%        1.000000      2.000000    4483.000000     61.900000   \n",
              "75%        2.000000      4.000000    7771.500000     75.200000   \n",
              "max       22.000000     43.000000  127305.000000    151.400000   \n",
              "\n",
              "       total_rev_hi_lim        inq_fi   total_cu_tl  inq_last_12m  \n",
              "count      8.171030e+05  21372.000000  21372.000000  21372.000000  \n",
              "mean       3.206862e+04      0.943945      1.537058      1.977307  \n",
              "std        3.749826e+04      1.446872      2.723339      2.874067  \n",
              "min        0.000000e+00      0.000000      0.000000     -4.000000  \n",
              "25%        1.390000e+04      0.000000      0.000000      0.000000  \n",
              "50%        2.370000e+04      0.000000      0.000000      2.000000  \n",
              "75%        3.980000e+04      1.000000      2.000000      3.000000  \n",
              "max        9.999999e+06     17.000000     35.000000     32.000000  \n",
              "\n",
              "[8 rows x 51 columns]"
            ]
          },
          "execution_count": 11,
          "metadata": {},
          "output_type": "execute_result"
        }
      ],
      "source": [
        "#Describir los datos\n",
        "df.describe()"
      ]
    },
    {
      "cell_type": "code",
      "execution_count": null,
      "metadata": {
        "id": "dPffIHilMx3j",
        "outputId": "95cc95e1-28f9-4404-df70-e60ab6e0a541"
      },
      "outputs": [
        {
          "data": {
            "text/plain": [
              "id                       0\n",
              "member_id                0\n",
              "loan_amnt                0\n",
              "funded_amnt              0\n",
              "funded_amnt_inv          0\n",
              "                     ...  \n",
              "all_util            866007\n",
              "total_rev_hi_lim     70276\n",
              "inq_fi              866007\n",
              "total_cu_tl         866007\n",
              "inq_last_12m        866007\n",
              "Length: 74, dtype: int64"
            ]
          },
          "execution_count": 12,
          "metadata": {},
          "output_type": "execute_result"
        }
      ],
      "source": [
        "#Verificar los valores nulos\n",
        "df.isnull().sum()"
      ]
    },
    {
      "cell_type": "markdown",
      "metadata": {
        "id": "ktmxcWqHMx3j"
      },
      "source": [
        "Se observa que hay algunas variables que tienen valores nulos, por lo que se procederá a realizar un análisis más detallado de los datos para determinar cómo se deben tratar estos valores nulos."
      ]
    },
    {
      "cell_type": "markdown",
      "metadata": {
        "id": "AvjBDjleMx3k"
      },
      "source": [
        "## Preprocesamiento de los datos"
      ]
    },
    {
      "cell_type": "markdown",
      "metadata": {
        "id": "f-O-pM-6Mx3k"
      },
      "source": [
        "Primero vamos a remover las columnas que no tienen relevancia para el análisis de riesgo crediticio. Luego, vamos a rellenar los valores nulos de las columnas que consideramos importantes para el análisis."
      ]
    },
    {
      "cell_type": "code",
      "execution_count": null,
      "metadata": {
        "id": "PWYaiLZDMx3k",
        "outputId": "64261753-ae0d-4857-e936-1b44c3484cef"
      },
      "outputs": [
        {
          "name": "stderr",
          "output_type": "stream",
          "text": [
            "C:\\Users\\Juan Esteban\\AppData\\Local\\Temp\\ipykernel_14632\\1033093427.py:26: FutureWarning: A value is trying to be set on a copy of a DataFrame or Series through chained assignment using an inplace method.\n",
            "The behavior will change in pandas 3.0. This inplace method will never work because the intermediate object on which we are setting values always behaves as a copy.\n",
            "\n",
            "For example, when doing 'df[col].method(value, inplace=True)', try using 'df.method({col: value}, inplace=True)' or df[col] = df[col].method(value) instead, to perform the operation inplace on the original object.\n",
            "\n",
            "\n",
            "  data['emp_length'].fillna(value = 0, inplace = True)\n"
          ]
        }
      ],
      "source": [
        "data = df.copy()# Copiar el dataset\n",
        "\n",
        "def clean_data(data: pd.DataFrame) -> pd.DataFrame:\n",
        "\n",
        "    # Paso 1: Remover columnas no relevantes para el estudio\n",
        "\n",
        "    data.drop(columns = ['id', 'member_id', 'emp_title','funded_amnt','funded_amnt_inv','last_pymnt_amnt','last_pymnt_d',\n",
        "                         'loan_amnt','int_rate' ,'url', 'desc', 'title','last_credit_pull_d','last_pymnt_d',\n",
        "                            'zip_code','issue_d', 'next_pymnt_d','addr_state','next_pymnt_d'], inplace = True)\n",
        "\n",
        "    # Paso 2: Remover columnas con el 80% de valores faltantes\n",
        "\n",
        "    data.dropna(thresh = data.shape[0]*0.8, axis = 1, inplace = True)\n",
        "\n",
        "    # Paso 3: Convertir a numerica la columna 'term'\n",
        "    data['term'] = pd.to_numeric(df['term'].str.replace(' months', ''))\n",
        "\n",
        "    # Paso 4: Convertir a numerica la columna 'emp_length'\n",
        "\n",
        "    data['emp_length'] = data['emp_length'].str.replace('+ years', '')\n",
        "    data['emp_length'] = data['emp_length'].str.replace('< 1 year', str(0))\n",
        "    data['emp_length'] = data['emp_length'].str.replace(' years', '')\n",
        "    data['emp_length'] = data['emp_length'].str.replace(' year', '')\n",
        "\n",
        "    data['emp_length'] = pd.to_numeric(data['emp_length'])\n",
        "    data['emp_length'].fillna(value = 0, inplace = True)\n",
        "\n",
        "\n",
        "    return data\n",
        "\n",
        "data_cleaned = clean_data(data)\n"
      ]
    },
    {
      "cell_type": "code",
      "execution_count": null,
      "metadata": {
        "id": "UohIoGo2Mx3k",
        "outputId": "8f4bfa1f-d1b0-4e88-8c0f-dcc8d34558a4"
      },
      "outputs": [
        {
          "name": "stdout",
          "output_type": "stream",
          "text": [
            "<class 'pandas.core.frame.DataFrame'>\n",
            "RangeIndex: 887379 entries, 0 to 887378\n",
            "Data columns (total 37 columns):\n",
            " #   Column                      Non-Null Count   Dtype  \n",
            "---  ------                      --------------   -----  \n",
            " 0   term                        887379 non-null  int64  \n",
            " 1   installment                 887379 non-null  float64\n",
            " 2   grade                       887379 non-null  object \n",
            " 3   sub_grade                   887379 non-null  object \n",
            " 4   emp_length                  887379 non-null  float64\n",
            " 5   home_ownership              887379 non-null  object \n",
            " 6   annual_inc                  887375 non-null  float64\n",
            " 7   verification_status         887379 non-null  object \n",
            " 8   loan_status                 887379 non-null  object \n",
            " 9   pymnt_plan                  887379 non-null  object \n",
            " 10  purpose                     887379 non-null  object \n",
            " 11  dti                         887379 non-null  float64\n",
            " 12  delinq_2yrs                 887350 non-null  float64\n",
            " 13  earliest_cr_line            887350 non-null  object \n",
            " 14  inq_last_6mths              887350 non-null  float64\n",
            " 15  open_acc                    887350 non-null  float64\n",
            " 16  pub_rec                     887350 non-null  float64\n",
            " 17  revol_bal                   887379 non-null  float64\n",
            " 18  revol_util                  886877 non-null  float64\n",
            " 19  total_acc                   887350 non-null  float64\n",
            " 20  initial_list_status         887379 non-null  object \n",
            " 21  out_prncp                   887379 non-null  float64\n",
            " 22  out_prncp_inv               887379 non-null  float64\n",
            " 23  total_pymnt                 887379 non-null  float64\n",
            " 24  total_pymnt_inv             887379 non-null  float64\n",
            " 25  total_rec_prncp             887379 non-null  float64\n",
            " 26  total_rec_int               887379 non-null  float64\n",
            " 27  total_rec_late_fee          887379 non-null  float64\n",
            " 28  recoveries                  887379 non-null  float64\n",
            " 29  collection_recovery_fee     887379 non-null  float64\n",
            " 30  collections_12_mths_ex_med  887234 non-null  float64\n",
            " 31  policy_code                 887379 non-null  float64\n",
            " 32  application_type            887379 non-null  object \n",
            " 33  acc_now_delinq              887350 non-null  float64\n",
            " 34  tot_coll_amt                817103 non-null  float64\n",
            " 35  tot_cur_bal                 817103 non-null  float64\n",
            " 36  total_rev_hi_lim            817103 non-null  float64\n",
            "dtypes: float64(26), int64(1), object(10)\n",
            "memory usage: 250.5+ MB\n"
          ]
        }
      ],
      "source": [
        "data_cleaned.info()"
      ]
    },
    {
      "cell_type": "markdown",
      "metadata": {
        "id": "MGhfir-mMx3k"
      },
      "source": [
        "Se manejarán los valores nulos según el tipo de variable.\n"
      ]
    },
    {
      "cell_type": "code",
      "execution_count": null,
      "metadata": {
        "id": "i8XVqiS-Mx3k"
      },
      "outputs": [],
      "source": [
        "data = data_cleaned.copy()\n",
        "\n",
        "def handle_nulls_by_type(dataFrame: pd.DataFrame) -> pd.DataFrame:\n",
        "\n",
        "    monetary_cols = [\n",
        "    'installment','revol_bal','revol_util', 'out_prncp', 'out_prncp_inv',\n",
        "    'total_pymnt', 'total_pymnt_inv', 'total_rec_int',\n",
        "    'tot_coll_amt', 'tot_cur_bal','total_rev_hi_lim'\n",
        "    ]\n",
        "\n",
        "    # Usar mediana para variables monetarias\n",
        "    monetary_imputer = SimpleImputer(strategy='median')\n",
        "    dataFrame[monetary_cols] = monetary_imputer.fit_transform(dataFrame[monetary_cols])\n",
        "\n",
        "    #Variables de conteo\n",
        "    count_cols = [\n",
        "        'inq_last_6mths', 'open_acc', 'pub_rec', 'total_acc',\n",
        "        'collections_12_mths_ex_med', 'acc_now_delinq'\n",
        "    ]\n",
        "\n",
        "    # Para variables de conteo, usar 0 o la mediana según el caso\n",
        "    for col in count_cols:\n",
        "        if col in ['collections_12_mths_ex_med', 'acc_now_delinq']:\n",
        "            # Para colecciones y delinquencias, usar 0\n",
        "            dataFrame[col] = dataFrame[col].fillna(dataFrame[col].median())\n",
        "        else:\n",
        "            # Para otros conteos, usar la mediana\n",
        "            dataFrame[col] = dataFrame[col].fillna(dataFrame[col].median())\n",
        "\n",
        "    # Para 'delinq_2yrs' usar mediana y redondeo a entero\n",
        "\n",
        "    dataFrame['delinq_2yrs'] = dataFrame['delinq_2yrs'].fillna(dataFrame['delinq_2yrs'].median())\n",
        "\n",
        "    #Variables de conteo\n",
        "\n",
        "    count_cols = [\n",
        "        'inq_last_6mths', 'open_acc', 'pub_rec', 'total_acc',\n",
        "        'collections_12_mths_ex_med', 'acc_now_delinq'\n",
        "    ]\n",
        "\n",
        "    for col in count_cols:\n",
        "        if col in ['collections_12_mths_ex_med', 'acc_now_delinq']:\n",
        "            # Para colecciones y delinquencias, usar 0\n",
        "            dataFrame[col] = dataFrame[col].fillna(0)\n",
        "        else:\n",
        "            # Para otros conteos, usar la mediana\n",
        "            dataFrame[col] = dataFrame[col].fillna(dataFrame[col].median())\n",
        "\n",
        "\n",
        "\n",
        "    return dataFrame\n",
        "\n",
        "data_withoutNulls = handle_nulls_by_type(data)\n"
      ]
    },
    {
      "cell_type": "code",
      "execution_count": null,
      "metadata": {
        "id": "n2utIzCuMx3k",
        "outputId": "e517b64d-5d89-47fd-ac17-d15ac8d80ddc"
      },
      "outputs": [
        {
          "name": "stdout",
          "output_type": "stream",
          "text": [
            "0         480\n",
            "1         309\n",
            "2         278\n",
            "3         347\n",
            "4         348\n",
            "         ... \n",
            "887374    244\n",
            "887375    610\n",
            "887376    256\n",
            "887377    255\n",
            "887378    277\n",
            "Name: months_until_2025, Length: 887379, dtype: int64\n"
          ]
        }
      ],
      "source": [
        "\n",
        "# Convertir a formato de fecha\n",
        "data_withoutNulls['earliest_cr_line'] = pd.to_datetime(data_withoutNulls['earliest_cr_line'], format='%b-%Y', errors='coerce')\n",
        "\n",
        "# Definir la fecha de referencia (2025)\n",
        "reference_date = datetime(2025, 1, 1)\n",
        "\n",
        "# Calcular la diferencia en meses manualmente\n",
        "def months_until_2025(date):\n",
        "    if pd.isnull(date):  # Manejar valores nulos\n",
        "        return 0\n",
        "    return (reference_date.year - date.year) * 12 + (reference_date.month - date.month)\n",
        "\n",
        "# Aplicar la función a la columna\n",
        "data_withoutNulls['months_until_2025'] = data_withoutNulls['earliest_cr_line'].apply(months_until_2025)\n",
        "data_withoutNulls.drop(columns = ['earliest_cr_line'], inplace = True)\n",
        "data_withoutNulls['months_until_2025'] = data_withoutNulls['months_until_2025'].fillna(0).astype(int)\n",
        "print(data_withoutNulls['months_until_2025'])\n",
        "\n",
        "data_withoutNulls['annual_inc'] = data_withoutNulls['annual_inc'].fillna(0).astype(int)\n"
      ]
    },
    {
      "cell_type": "code",
      "execution_count": null,
      "metadata": {
        "id": "w7v82amlMx3k",
        "outputId": "8b61b385-c910-4c64-8688-72b34ba74a9c"
      },
      "outputs": [
        {
          "data": {
            "text/plain": [
              "grade                   7\n",
              "sub_grade              35\n",
              "home_ownership          6\n",
              "verification_status     3\n",
              "loan_status            10\n",
              "pymnt_plan              2\n",
              "purpose                14\n",
              "initial_list_status     2\n",
              "application_type        2\n",
              "dtype: int64"
            ]
          },
          "execution_count": 13,
          "metadata": {},
          "output_type": "execute_result"
        }
      ],
      "source": [
        "# Ver variables categoricas y sus valores unicos\n",
        "\n",
        "data.select_dtypes(include = 'object').nunique()\n"
      ]
    },
    {
      "cell_type": "code",
      "execution_count": null,
      "metadata": {
        "id": "_inVgHNeMx3l",
        "outputId": "1f27724a-162e-40a8-db79-bd30e20d9167"
      },
      "outputs": [
        {
          "data": {
            "text/plain": [
              "term                          0\n",
              "installment                   0\n",
              "grade                         0\n",
              "sub_grade                     0\n",
              "emp_length                    0\n",
              "home_ownership                0\n",
              "annual_inc                    0\n",
              "verification_status           0\n",
              "loan_status                   0\n",
              "pymnt_plan                    0\n",
              "purpose                       0\n",
              "dti                           0\n",
              "delinq_2yrs                   0\n",
              "inq_last_6mths                0\n",
              "open_acc                      0\n",
              "pub_rec                       0\n",
              "revol_bal                     0\n",
              "revol_util                    0\n",
              "total_acc                     0\n",
              "initial_list_status           0\n",
              "out_prncp                     0\n",
              "out_prncp_inv                 0\n",
              "total_pymnt                   0\n",
              "total_pymnt_inv               0\n",
              "total_rec_prncp               0\n",
              "total_rec_int                 0\n",
              "total_rec_late_fee            0\n",
              "recoveries                    0\n",
              "collection_recovery_fee       0\n",
              "collections_12_mths_ex_med    0\n",
              "policy_code                   0\n",
              "application_type              0\n",
              "acc_now_delinq                0\n",
              "tot_coll_amt                  0\n",
              "tot_cur_bal                   0\n",
              "total_rev_hi_lim              0\n",
              "months_until_2025             0\n",
              "dtype: int64"
            ]
          },
          "execution_count": 18,
          "metadata": {},
          "output_type": "execute_result"
        }
      ],
      "source": [
        "#Verificamos que si se hayan eliminado los valores nulos\n",
        "data_withoutNulls.isna().sum()"
      ]
    },
    {
      "cell_type": "markdown",
      "metadata": {
        "id": "AToa-E51Mx3l"
      },
      "source": [
        "## Análisis descriptivo"
      ]
    },
    {
      "cell_type": "code",
      "execution_count": null,
      "metadata": {
        "id": "oq083dkoMx3l"
      },
      "outputs": [],
      "source": [
        "#Guardamos el archivo limpio\n",
        "data_withoutNulls.to_csv('loan_cleaned.csv', index=False)"
      ]
    },
    {
      "cell_type": "code",
      "execution_count": null,
      "metadata": {
        "id": "OamFg65QMx3l"
      },
      "outputs": [],
      "source": [
        "#Cargo el dataset limpio\n",
        "data_frame= pd.read_csv('loan_cleaned.csv')"
      ]
    },
    {
      "cell_type": "code",
      "execution_count": null,
      "metadata": {
        "id": "cy_1WGKKMx3l"
      },
      "outputs": [],
      "source": [
        "#Creo una copia del dataset limpio\n",
        "data_cleaned = data_frame.copy()"
      ]
    },
    {
      "cell_type": "markdown",
      "metadata": {
        "id": "odxUzAOOMx3l"
      },
      "source": [
        "En primer lugar, vamos a analizar la variable objetivo, que en este caso es *loan_status*. Esta variable indica el estado del préstamo y consta de 10 clases diferentes, como se puede observar a continuación"
      ]
    },
    {
      "cell_type": "code",
      "execution_count": null,
      "metadata": {
        "id": "s71KNVtBMx3l",
        "outputId": "c7c59e97-ce81-45eb-c141-5e857ab23b61"
      },
      "outputs": [
        {
          "data": {
            "image/png": "[encoded data removed]",
            "text/plain": [
              "<Figure size 1600x600 with 1 Axes>"
            ]
          },
          "metadata": {},
          "output_type": "display_data"
        }
      ],
      "source": [
        "#Gráfica de barras de la variable loan_status\n",
        "\n",
        "# Definir el tamaño de la gráfica\n",
        "plt.figure(figsize=(16, 6))\n",
        "# Crear la gráfica\n",
        "sns.countplot(y='loan_status', data=data_cleaned)\n",
        "# Añadir título\n",
        "plt.title(\"Estado de los préstamos\")\n",
        "\n",
        "plt.show()"
      ]
    },
    {
      "cell_type": "markdown",
      "metadata": {
        "id": "h6oHFaJAMx3l"
      },
      "source": [
        "Se observa que la variable `loan_status` tiene varios estados, siendo los más relevantes los siguientes:\n",
        "- Current: El préstamo está al día y en curso.\n",
        "- Fully Paid: El préstamo ha sido pagado en su totalidad.\n",
        "- charged Off: El préstamo no ha sido pagado y se considera una pérdida.\n",
        "\n",
        "Estos estados indican que la mayoría de los préstamos están al día o han sido pagados, mientras que una pequeña proporción ha sido incumplida.\n"
      ]
    },
    {
      "cell_type": "markdown",
      "metadata": {
        "id": "Es3t4goBMx3l"
      },
      "source": [
        "### Análisis de variables y relaciones con la variable objetivo"
      ]
    },
    {
      "cell_type": "markdown",
      "metadata": {
        "id": "k_byCEGuMx3l"
      },
      "source": [
        "#### Tasa de interés (int_rate) y estado del préstamo (loan_status)"
      ]
    },
    {
      "cell_type": "code",
      "execution_count": null,
      "metadata": {
        "id": "qW9WoWo_Mx3l",
        "outputId": "ec9e6dcd-235e-4cbf-bfd5-ea4c35759163"
      },
      "outputs": [
        {
          "name": "stderr",
          "output_type": "stream",
          "text": [
            "C:\\Users\\Juan Esteban\\AppData\\Local\\Temp\\ipykernel_12908\\3075842697.py:6: FutureWarning: \n",
            "\n",
            "Passing `palette` without assigning `hue` is deprecated and will be removed in v0.14.0. Assign the `y` variable to `hue` and set `legend=False` for the same effect.\n",
            "\n",
            "  sns.boxplot(x='int_rate', y='loan_status', data=data_cleaned, palette='Set2')\n"
          ]
        },
        {
          "data": {
            "image/png": "[encoded data removed]",
            "text/plain": [
              "<Figure size 1000x600 with 1 Axes>"
            ]
          },
          "metadata": {},
          "output_type": "display_data"
        }
      ],
      "source": [
        "#Box plot de la variable int_rate en función de la variable loan_status\n",
        "\n",
        "# Definir el tamaño de la gráfica\n",
        "plt.figure(figsize=(10, 6))\n",
        "# Crear la gráfica\n",
        "sns.boxplot(x='int_rate', y='loan_status', data=data_cleaned, palette='Set2')\n",
        "# Añadir título\n",
        "plt.title(\"Tasa de interés en función del estado del préstamo\")\n",
        "# Ajustar márgenes\n",
        "plt.tight_layout()"
      ]
    },
    {
      "cell_type": "markdown",
      "metadata": {
        "id": "WkyBc68GMx3l"
      },
      "source": [
        "El gráfico muestra que las tasas de interés son más altas en préstamos con mayor riesgo, como los estados \"Default\" y \"Charged Off\", mientras que son más bajas en los \"Fully Paid\". Los estados de incumplimiento parcial (\"Late\") también tienen tasas altas, pero no tanto como los de incumplimiento total. Esto refleja que el riesgo del préstamo influye directamente en las tasas de interés."
      ]
    },
    {
      "cell_type": "markdown",
      "metadata": {
        "id": "pIPX_RiWMx3m"
      },
      "source": [
        "#### Propósito del préstamo (purpose) y estado del préstamo (loan_status)"
      ]
    },
    {
      "cell_type": "code",
      "execution_count": null,
      "metadata": {
        "id": "MaomrAPZMx3m",
        "outputId": "4aad37f1-9c2b-424a-a1ae-77d97139c9e6"
      },
      "outputs": [
        {
          "data": {
            "text/plain": [
              "<Figure size 1000x800 with 0 Axes>"
            ]
          },
          "metadata": {},
          "output_type": "display_data"
        },
        {
          "data": {
            "image/png": "[encoded data removed]",
            "text/plain": [
              "<Figure size 1200x600 with 1 Axes>"
            ]
          },
          "metadata": {},
          "output_type": "display_data"
        }
      ],
      "source": [
        "#Grafico de barras de purpose en función de loan_status\n",
        "plt.figure(figsize=(10, 8))\n",
        "\n",
        "# Crear la gráfica\n",
        "purpose = data_cleaned.groupby(['purpose', 'loan_status']).size().unstack(fill_value=0)\n",
        "purpose.plot(kind='bar', stacked=True, figsize=(12, 6))\n",
        "# Añadir título\n",
        "plt.title(\"Propósito del préstamo en función del estado del préstamo\")\n",
        "\n",
        "\n",
        "plt.xlabel('Propósito del préstamo', fontsize=12)\n",
        "plt.ylabel('Número de préstamos', fontsize=12)\n",
        "plt.xticks(rotation=45)\n",
        "\n",
        "plt.show()\n"
      ]
    },
    {
      "cell_type": "markdown",
      "metadata": {
        "id": "v6G1pF6iMx3m"
      },
      "source": [
        "Este gráfico sugiere que una proporción significativa de los préstamos se destina a la consolidación de deudas o al pago de tarjetas de crédito."
      ]
    },
    {
      "cell_type": "markdown",
      "metadata": {
        "id": "6Bz5pBtOMx3m"
      },
      "source": [
        "#### Grado del préstamo (grade) y estado del préstamo (loan_status)"
      ]
    },
    {
      "cell_type": "code",
      "execution_count": null,
      "metadata": {
        "id": "Rs43Vc_wMx3m",
        "outputId": "84dd0101-cd8d-440c-909f-9f4ab19987d4"
      },
      "outputs": [
        {
          "data": {
            "text/plain": [
              "Text(0.5, 1.0, 'Grado del préstamo en función del estado del préstamo')"
            ]
          },
          "execution_count": 5,
          "metadata": {},
          "output_type": "execute_result"
        },
        {
          "data": {
            "text/plain": [
              "<Figure size 1000x800 with 0 Axes>"
            ]
          },
          "metadata": {},
          "output_type": "display_data"
        },
        {
          "data": {
            "image/png": "[encoded data removed]",
            "text/plain": [
              "<Figure size 1200x600 with 1 Axes>"
            ]
          },
          "metadata": {},
          "output_type": "display_data"
        }
      ],
      "source": [
        "#Grafico de barras de grade en función de loan_status\n",
        "plt.figure(figsize=(10, 8))\n",
        "\n",
        "# Crear la gráfica\n",
        "grade = data_cleaned.groupby(['grade', 'loan_status']).size().unstack(fill_value=0)\n",
        "\n",
        "grade.plot(kind='bar', stacked=True, figsize=(12, 6))\n",
        "\n",
        "# Añadir título\n",
        "plt.title(\"Grado del préstamo en función del estado del préstamo\")\n"
      ]
    },
    {
      "cell_type": "markdown",
      "metadata": {
        "id": "8yDVDL-sMx3m"
      },
      "source": [
        "Aunque la visualización puede resultar un poco compleja, se logra evidenciar que en los grados C, D y E existe una mayor proporción de estados negativos, como \"Charged Off\", \"Default\" o \"Late\". Esto se debe a que estos grados representan un mayor riesgo crediticio, lo que incrementa la probabilidad de incumplimiento o mora en los préstamos."
      ]
    },
    {
      "cell_type": "markdown",
      "metadata": {
        "id": "kc18hgSbMx3m"
      },
      "source": [
        "#### Monto del préstamo (loan_amnt) y estado del préstamo (loan_status)"
      ]
    },
    {
      "cell_type": "code",
      "execution_count": null,
      "metadata": {
        "id": "N1Tw7n6_Mx3m",
        "outputId": "74904fa6-423f-48f3-e9f4-7726f68afa16"
      },
      "outputs": [
        {
          "name": "stderr",
          "output_type": "stream",
          "text": [
            "C:\\Users\\Juan Esteban\\AppData\\Local\\Temp\\ipykernel_6896\\2217513357.py:6: FutureWarning: \n",
            "\n",
            "Passing `palette` without assigning `hue` is deprecated and will be removed in v0.14.0. Assign the `y` variable to `hue` and set `legend=False` for the same effect.\n",
            "\n",
            "  sns.boxplot(x='loan_amnt', y='loan_status', data=data_cleaned, palette='Set2')\n"
          ]
        },
        {
          "data": {
            "image/png": "[encoded data removed]",
            "text/plain": [
              "<Figure size 1000x600 with 1 Axes>"
            ]
          },
          "metadata": {},
          "output_type": "display_data"
        }
      ],
      "source": [
        "#Box plot de la variable load_amaunt en función de la variable loan_status\n",
        "\n",
        "# Definir el tamaño de la gráfica\n",
        "plt.figure(figsize=(10, 6))\n",
        "# Crear la gráfica\n",
        "sns.boxplot(x='loan_amnt', y='loan_status', data=data_cleaned, palette='Set2')\n",
        "# Añadir título\n",
        "plt.title(\"Monto del préstamo en función del estado del préstamo\")\n",
        "# Ajustar márgenes\n",
        "plt.tight_layout()"
      ]
    },
    {
      "cell_type": "markdown",
      "metadata": {
        "id": "_h193dQjMx3m"
      },
      "source": [
        "### Agrupamiento de variable objetivo"
      ]
    },
    {
      "cell_type": "markdown",
      "metadata": {
        "id": "LVcaZ9RZMx3m"
      },
      "source": [
        "Las **clases** se agruparon en 5, de la siguiente manera:\n",
        "\n",
        "1. **Préstamos activos o en curso:**\n",
        "    - **Current**\n",
        "    - **In Grace Period**\n",
        "    \n",
        "    Estos préstamos están activos y en proceso, ya sea dentro de su período normal o con una prórroga.\n",
        "    \n",
        "2. **Préstamos pagados:**\n",
        "    - **Fully Paid**\n",
        "    - **Does not meet the credit policy. Status: Fully Paid**\n",
        "    \n",
        "    Estos préstamos han sido pagados en su totalidad, aunque uno de ellos está relacionado con una situación en la que no se cumplen los requisitos de la política de crédito.\n",
        "    \n",
        "3. **Préstamos morosos:**\n",
        "    - **Late (16-30 days)**\n",
        "    - **Late (31-120 days)**\n",
        "    \n",
        "    Estos préstamos están en estado de atraso, con pagos pendientes por un período específico.\n",
        "    \n",
        "4. **Préstamos incumplidos:**\n",
        "    - **Default**\n",
        "    - **Charged Off**\n",
        "    - **Does not meet the credit policy. Status: Charged Off**\n",
        "    \n",
        "    Estos préstamos están marcados como incumplidos, ya sea por no cumplir con los pagos o por no cumplir con los términos de la política de crédito.\n",
        "    \n",
        "5. **Préstamos emitidos:**\n",
        "    - **Issued**\n",
        "    \n",
        "    Estos son préstamos que han sido emitidos pero no han sido clasificados en ninguna otra categoría específica, como \"actual\" o \"pagado\"."
      ]
    },
    {
      "cell_type": "code",
      "execution_count": null,
      "metadata": {
        "id": "5Beb3p8KMx3n"
      },
      "outputs": [],
      "source": [
        "X = data_cleaned.drop(columns = 'loan_status')\n",
        "y = data_cleaned['loan_status']"
      ]
    },
    {
      "cell_type": "markdown",
      "metadata": {
        "id": "dHNxqJCQMx3n"
      },
      "source": [
        "## Modelado de datos"
      ]
    },
    {
      "cell_type": "markdown",
      "metadata": {
        "id": "TWUyJ9zNMx3n"
      },
      "source": [
        "Dividimos los datos en conjuntos de entrenamiento y prueba."
      ]
    },
    {
      "cell_type": "code",
      "execution_count": null,
      "metadata": {
        "id": "pMThkTvjMx3n"
      },
      "outputs": [],
      "source": [
        "#Dividimos los datos en train, test y validation\n",
        "X_train, X_val, y_train, y_val = train_test_split(X, y, test_size=0.25, random_state=42, stratify=y)"
      ]
    },
    {
      "cell_type": "markdown",
      "metadata": {
        "id": "gu-VgAkVMx3n"
      },
      "source": [
        "### Codificación de variables categóricas"
      ]
    },
    {
      "cell_type": "markdown",
      "metadata": {
        "id": "xMeuw4rrMx3n"
      },
      "source": [
        "#### One-Hot Encoding para variables categóricas"
      ]
    },
    {
      "cell_type": "code",
      "execution_count": null,
      "metadata": {
        "id": "K993XVepMx3n"
      },
      "outputs": [],
      "source": [
        "#One hot encoding para las variables categóricas\n",
        "one_hot = OneHotEncoder(sparse_output=False, drop='first')\n",
        "X_train_encoded_one = pd.DataFrame(one_hot.fit_transform(X_train[['home_ownership','initial_list_status','application_type','purpose']]),\n",
        "                                             columns = one_hot.get_feature_names_out(['home_ownership','initial_list_status', 'application_type','purpose']))\n",
        "\n",
        "X_val_encoded_one = pd.DataFrame(one_hot.transform(X_val[['home_ownership','initial_list_status','application_type' ,'purpose']]),\n",
        "                                                columns = one_hot.get_feature_names_out(['home_ownership','initial_list_status', 'application_type','purpose']))\n",
        "\n",
        "X_train_encoded_one.index = X_train.index\n",
        "X_val_encoded_one.index = X_val.index\n"
      ]
    },
    {
      "cell_type": "code",
      "execution_count": null,
      "metadata": {
        "id": "t0cMjA4GMx3n",
        "outputId": "355e4d21-3261-4be6-bee4-b90fadec7299"
      },
      "outputs": [
        {
          "name": "stdout",
          "output_type": "stream",
          "text": [
            "<class 'pandas.core.frame.DataFrame'>\n",
            "Index: 665534 entries, 624453 to 573734\n",
            "Data columns (total 20 columns):\n",
            " #   Column                      Non-Null Count   Dtype  \n",
            "---  ------                      --------------   -----  \n",
            " 0   home_ownership_MORTGAGE     665534 non-null  float64\n",
            " 1   home_ownership_NONE         665534 non-null  float64\n",
            " 2   home_ownership_OTHER        665534 non-null  float64\n",
            " 3   home_ownership_OWN          665534 non-null  float64\n",
            " 4   home_ownership_RENT         665534 non-null  float64\n",
            " 5   initial_list_status_w       665534 non-null  float64\n",
            " 6   application_type_JOINT      665534 non-null  float64\n",
            " 7   purpose_credit_card         665534 non-null  float64\n",
            " 8   purpose_debt_consolidation  665534 non-null  float64\n",
            " 9   purpose_educational         665534 non-null  float64\n",
            " 10  purpose_home_improvement    665534 non-null  float64\n",
            " 11  purpose_house               665534 non-null  float64\n",
            " 12  purpose_major_purchase      665534 non-null  float64\n",
            " 13  purpose_medical             665534 non-null  float64\n",
            " 14  purpose_moving              665534 non-null  float64\n",
            " 15  purpose_other               665534 non-null  float64\n",
            " 16  purpose_renewable_energy    665534 non-null  float64\n",
            " 17  purpose_small_business      665534 non-null  float64\n",
            " 18  purpose_vacation            665534 non-null  float64\n",
            " 19  purpose_wedding             665534 non-null  float64\n",
            "dtypes: float64(20)\n",
            "memory usage: 106.6 MB\n"
          ]
        }
      ],
      "source": [
        "X_train_encoded_one.info()"
      ]
    },
    {
      "cell_type": "markdown",
      "metadata": {
        "id": "LBElK3BEMx3n"
      },
      "source": [
        "#### Ordinal Encoding para variables categóricas"
      ]
    },
    {
      "cell_type": "code",
      "execution_count": null,
      "metadata": {
        "id": "TLt9sVVxMx3n"
      },
      "outputs": [],
      "source": [
        "#Usamos OrdinalEncoder para las variables categóricas\n",
        "\n",
        "ordinal = OrdinalEncoder()\n",
        "\n",
        "orden = [\n",
        "    ['Not Verified', 'Source Verified', 'Verified'],\n",
        "    ['A', 'B', 'C', 'D', 'E', 'F', 'G'],\n",
        "    ['A1', 'A2', 'A3', 'A4', 'A5', 'B1', 'B2', 'B3', 'B4', 'B5',\n",
        "    'C1', 'C2', 'C3', 'C4', 'C5', 'D1', 'D2', 'D3', 'D4', 'D5',\n",
        "    'E1', 'E2', 'E3', 'E4', 'E5', 'F1', 'F2', 'F3', 'F4', 'F5',\n",
        "    'G1', 'G2', 'G3', 'G4', 'G5']]\n",
        "\n",
        "X_train_encoded_ord = pd.DataFrame(ordinal.fit_transform(X_train[['verification_status','grade','sub_grade']]),\n",
        "                                                columns = ['verification_status','grade','sub_grade'])\n",
        "\n",
        "X_val_encoded_ord = pd.DataFrame(ordinal.transform(X_val[['verification_status','grade','sub_grade']]),\n",
        "                                                columns = ['verification_status','grade','sub_grade'])\n",
        "\n",
        "X_train_encoded_ord.index = X_train.index\n",
        "X_val_encoded_ord.index = X_val.index\n"
      ]
    },
    {
      "cell_type": "markdown",
      "metadata": {
        "id": "ok34zgtlMx3n"
      },
      "source": [
        "#### Label Encoding para variables categóricas"
      ]
    },
    {
      "cell_type": "code",
      "execution_count": null,
      "metadata": {
        "id": "DkZv7EX7Mx3o"
      },
      "outputs": [],
      "source": [
        "#Usamos LabelEncoder para la variable pymnt_plan\n",
        "\n",
        "\n",
        "label = LabelEncoder()\n",
        "\n",
        "X_train_encoded_label = pd.DataFrame(label.fit_transform(X_train['pymnt_plan']), columns = ['pymnt_plan'])\n",
        "X_val_encoded_label = pd.DataFrame(label.transform(X_val['pymnt_plan']), columns = ['pymnt_plan'])\n",
        "\n",
        "\n",
        "X_train_encoded_label.index = X_train.index\n",
        "X_val_encoded_label.index = X_val.index"
      ]
    },
    {
      "cell_type": "markdown",
      "metadata": {
        "id": "t6AnrjAGMx3o"
      },
      "source": [
        "Se eliminan las columnas originales y se concatenan las columnas codificadas."
      ]
    },
    {
      "cell_type": "code",
      "execution_count": null,
      "metadata": {
        "id": "kBwmNGBMMx3o"
      },
      "outputs": [],
      "source": [
        "#Eliminamos las columnas originales\n",
        "\n",
        "X_train.drop(columns = ['home_ownership','initial_list_status','application_type','verification_status','grade','sub_grade','pymnt_plan','purpose'], inplace = True)\n",
        "X_val.drop(columns = ['home_ownership','initial_list_status','application_type','verification_status','grade','sub_grade','pymnt_plan','purpose'], inplace = True)\n",
        "\n",
        "#Unimos los datos codificados con los datos originales\n",
        "\n",
        "X_train = pd.concat([X_train, X_train_encoded_one, X_train_encoded_ord, X_train_encoded_label], axis = 1)\n",
        "X_val = pd.concat([X_val, X_val_encoded_one, X_val_encoded_ord, X_val_encoded_label], axis = 1)\n",
        "\n"
      ]
    },
    {
      "cell_type": "code",
      "execution_count": null,
      "metadata": {
        "id": "p52JVaWsMx3o",
        "outputId": "8de836fb-37a9-40c2-a8bd-daaf7ce352c8"
      },
      "outputs": [
        {
          "name": "stdout",
          "output_type": "stream",
          "text": [
            "<class 'pandas.core.frame.DataFrame'>\n",
            "Index: 665534 entries, 624453 to 573734\n",
            "Data columns (total 52 columns):\n",
            " #   Column                      Non-Null Count   Dtype  \n",
            "---  ------                      --------------   -----  \n",
            " 0   term                        665534 non-null  int64  \n",
            " 1   installment                 665534 non-null  float64\n",
            " 2   emp_length                  665534 non-null  float64\n",
            " 3   annual_inc                  665534 non-null  int64  \n",
            " 4   dti                         665534 non-null  float64\n",
            " 5   delinq_2yrs                 665534 non-null  float64\n",
            " 6   inq_last_6mths              665534 non-null  float64\n",
            " 7   open_acc                    665534 non-null  float64\n",
            " 8   pub_rec                     665534 non-null  float64\n",
            " 9   revol_bal                   665534 non-null  float64\n",
            " 10  revol_util                  665534 non-null  float64\n",
            " 11  total_acc                   665534 non-null  float64\n",
            " 12  out_prncp                   665534 non-null  float64\n",
            " 13  out_prncp_inv               665534 non-null  float64\n",
            " 14  total_pymnt                 665534 non-null  float64\n",
            " 15  total_pymnt_inv             665534 non-null  float64\n",
            " 16  total_rec_prncp             665534 non-null  float64\n",
            " 17  total_rec_int               665534 non-null  float64\n",
            " 18  total_rec_late_fee          665534 non-null  float64\n",
            " 19  recoveries                  665534 non-null  float64\n",
            " 20  collection_recovery_fee     665534 non-null  float64\n",
            " 21  collections_12_mths_ex_med  665534 non-null  float64\n",
            " 22  policy_code                 665534 non-null  float64\n",
            " 23  acc_now_delinq              665534 non-null  float64\n",
            " 24  tot_coll_amt                665534 non-null  float64\n",
            " 25  tot_cur_bal                 665534 non-null  float64\n",
            " 26  total_rev_hi_lim            665534 non-null  float64\n",
            " 27  months_until_2025           665534 non-null  int64  \n",
            " 28  home_ownership_MORTGAGE     665534 non-null  float64\n",
            " 29  home_ownership_NONE         665534 non-null  float64\n",
            " 30  home_ownership_OTHER        665534 non-null  float64\n",
            " 31  home_ownership_OWN          665534 non-null  float64\n",
            " 32  home_ownership_RENT         665534 non-null  float64\n",
            " 33  initial_list_status_w       665534 non-null  float64\n",
            " 34  application_type_JOINT      665534 non-null  float64\n",
            " 35  purpose_credit_card         665534 non-null  float64\n",
            " 36  purpose_debt_consolidation  665534 non-null  float64\n",
            " 37  purpose_educational         665534 non-null  float64\n",
            " 38  purpose_home_improvement    665534 non-null  float64\n",
            " 39  purpose_house               665534 non-null  float64\n",
            " 40  purpose_major_purchase      665534 non-null  float64\n",
            " 41  purpose_medical             665534 non-null  float64\n",
            " 42  purpose_moving              665534 non-null  float64\n",
            " 43  purpose_other               665534 non-null  float64\n",
            " 44  purpose_renewable_energy    665534 non-null  float64\n",
            " 45  purpose_small_business      665534 non-null  float64\n",
            " 46  purpose_vacation            665534 non-null  float64\n",
            " 47  purpose_wedding             665534 non-null  float64\n",
            " 48  verification_status         665534 non-null  float64\n",
            " 49  grade                       665534 non-null  float64\n",
            " 50  sub_grade                   665534 non-null  float64\n",
            " 51  pymnt_plan                  665534 non-null  int64  \n",
            "dtypes: float64(48), int64(4)\n",
            "memory usage: 269.1 MB\n"
          ]
        }
      ],
      "source": [
        "X_train.info()"
      ]
    },
    {
      "cell_type": "markdown",
      "metadata": {
        "id": "bbd8zLJlMx3o"
      },
      "source": [
        "## Selección de características"
      ]
    },
    {
      "cell_type": "markdown",
      "metadata": {
        "id": "O49lQIbyMx3o"
      },
      "source": [
        "Para seleccionar las características más importantes, se utiliza el método de Random Forest."
      ]
    },
    {
      "cell_type": "code",
      "execution_count": null,
      "metadata": {
        "id": "8R_oR7_TMx3o"
      },
      "outputs": [],
      "source": [
        "\n",
        "# Label Encoding\n",
        "label_encoder = LabelEncoder()\n",
        "label_encoder.fit(y_train)  # Ajustar solo con train\n",
        "\n",
        "y_train= label_encoder.transform(y_train)\n",
        "y_val= label_encoder.transform(y_val)\n"
      ]
    },
    {
      "cell_type": "code",
      "execution_count": null,
      "metadata": {
        "id": "_sDWZqfYMx3o",
        "outputId": "b8ff5655-a94f-4c7f-e43e-6a7d0a761ff7"
      },
      "outputs": [
        {
          "data": {
            "text/html": [
              "<div>\n",
              "<style scoped>\n",
              "    .dataframe tbody tr th:only-of-type {\n",
              "        vertical-align: middle;\n",
              "    }\n",
              "\n",
              "    .dataframe tbody tr th {\n",
              "        vertical-align: top;\n",
              "    }\n",
              "\n",
              "    .dataframe thead th {\n",
              "        text-align: right;\n",
              "    }\n",
              "</style>\n",
              "<table border=\"1\" class=\"dataframe\">\n",
              "  <thead>\n",
              "    <tr style=\"text-align: right;\">\n",
              "      <th></th>\n",
              "      <th>Feature</th>\n",
              "      <th>Importance</th>\n",
              "    </tr>\n",
              "  </thead>\n",
              "  <tbody>\n",
              "    <tr>\n",
              "      <th>12</th>\n",
              "      <td>out_prncp</td>\n",
              "      <td>0.281985</td>\n",
              "    </tr>\n",
              "    <tr>\n",
              "      <th>13</th>\n",
              "      <td>out_prncp_inv</td>\n",
              "      <td>0.261656</td>\n",
              "    </tr>\n",
              "    <tr>\n",
              "      <th>16</th>\n",
              "      <td>total_rec_prncp</td>\n",
              "      <td>0.100320</td>\n",
              "    </tr>\n",
              "    <tr>\n",
              "      <th>14</th>\n",
              "      <td>total_pymnt</td>\n",
              "      <td>0.055383</td>\n",
              "    </tr>\n",
              "    <tr>\n",
              "      <th>15</th>\n",
              "      <td>total_pymnt_inv</td>\n",
              "      <td>0.045496</td>\n",
              "    </tr>\n",
              "    <tr>\n",
              "      <th>1</th>\n",
              "      <td>installment</td>\n",
              "      <td>0.040087</td>\n",
              "    </tr>\n",
              "    <tr>\n",
              "      <th>19</th>\n",
              "      <td>recoveries</td>\n",
              "      <td>0.035747</td>\n",
              "    </tr>\n",
              "    <tr>\n",
              "      <th>17</th>\n",
              "      <td>total_rec_int</td>\n",
              "      <td>0.029362</td>\n",
              "    </tr>\n",
              "    <tr>\n",
              "      <th>20</th>\n",
              "      <td>collection_recovery_fee</td>\n",
              "      <td>0.025245</td>\n",
              "    </tr>\n",
              "    <tr>\n",
              "      <th>26</th>\n",
              "      <td>total_rev_hi_lim</td>\n",
              "      <td>0.013148</td>\n",
              "    </tr>\n",
              "    <tr>\n",
              "      <th>25</th>\n",
              "      <td>tot_cur_bal</td>\n",
              "      <td>0.010745</td>\n",
              "    </tr>\n",
              "    <tr>\n",
              "      <th>9</th>\n",
              "      <td>revol_bal</td>\n",
              "      <td>0.009296</td>\n",
              "    </tr>\n",
              "    <tr>\n",
              "      <th>4</th>\n",
              "      <td>dti</td>\n",
              "      <td>0.008124</td>\n",
              "    </tr>\n",
              "    <tr>\n",
              "      <th>10</th>\n",
              "      <td>revol_util</td>\n",
              "      <td>0.007713</td>\n",
              "    </tr>\n",
              "    <tr>\n",
              "      <th>33</th>\n",
              "      <td>initial_list_status_w</td>\n",
              "      <td>0.007594</td>\n",
              "    </tr>\n",
              "    <tr>\n",
              "      <th>27</th>\n",
              "      <td>months_until_2025</td>\n",
              "      <td>0.007374</td>\n",
              "    </tr>\n",
              "    <tr>\n",
              "      <th>3</th>\n",
              "      <td>annual_inc</td>\n",
              "      <td>0.007184</td>\n",
              "    </tr>\n",
              "    <tr>\n",
              "      <th>50</th>\n",
              "      <td>sub_grade</td>\n",
              "      <td>0.006478</td>\n",
              "    </tr>\n",
              "    <tr>\n",
              "      <th>11</th>\n",
              "      <td>total_acc</td>\n",
              "      <td>0.006196</td>\n",
              "    </tr>\n",
              "    <tr>\n",
              "      <th>6</th>\n",
              "      <td>inq_last_6mths</td>\n",
              "      <td>0.005370</td>\n",
              "    </tr>\n",
              "  </tbody>\n",
              "</table>\n",
              "</div>"
            ],
            "text/plain": [
              "                    Feature  Importance\n",
              "12                out_prncp    0.281985\n",
              "13            out_prncp_inv    0.261656\n",
              "16          total_rec_prncp    0.100320\n",
              "14              total_pymnt    0.055383\n",
              "15          total_pymnt_inv    0.045496\n",
              "1               installment    0.040087\n",
              "19               recoveries    0.035747\n",
              "17            total_rec_int    0.029362\n",
              "20  collection_recovery_fee    0.025245\n",
              "26         total_rev_hi_lim    0.013148\n",
              "25              tot_cur_bal    0.010745\n",
              "9                 revol_bal    0.009296\n",
              "4                       dti    0.008124\n",
              "10               revol_util    0.007713\n",
              "33    initial_list_status_w    0.007594\n",
              "27        months_until_2025    0.007374\n",
              "3                annual_inc    0.007184\n",
              "50                sub_grade    0.006478\n",
              "11                total_acc    0.006196\n",
              "6            inq_last_6mths    0.005370"
            ]
          },
          "execution_count": 32,
          "metadata": {},
          "output_type": "execute_result"
        }
      ],
      "source": [
        "#Vamos a usar Random Forest para determinar la importancia de las variables\n",
        "randomForest = RandomForestClassifier(n_estimators=300, random_state=42)\n",
        "randomForest.fit(X_train, y_train)\n",
        "importances = randomForest.feature_importances_\n",
        "features = X_train.columns\n",
        "\n",
        "importance_df = pd.DataFrame({'Feature': features, 'Importance': importances}).sort_values(by='Importance', ascending=False)\n",
        "importance_df.head(20)"
      ]
    },
    {
      "cell_type": "markdown",
      "metadata": {
        "id": "P9mOFP7sMx3o"
      },
      "source": [
        "Se seleccionan las 20 características más importantes."
      ]
    },
    {
      "cell_type": "code",
      "execution_count": null,
      "metadata": {
        "id": "KtiBkqTOMx3o"
      },
      "outputs": [],
      "source": [
        "#Seleccionamos las 20 variables más importantes\n",
        "\n",
        "X_train = X_train[importance_df['Feature'][:20]]\n",
        "X_val = X_val[importance_df['Feature'][:20]]\n"
      ]
    },
    {
      "cell_type": "code",
      "execution_count": null,
      "metadata": {
        "id": "KKF62dZNMx3o"
      },
      "outputs": [],
      "source": [
        "#Escalamos los datos\n",
        "scaler = StandardScaler()\n",
        "X_train_scaled = scaler.fit_transform(X_train)\n",
        "X_val_scaled = scaler.transform(X_val)"
      ]
    },
    {
      "cell_type": "code",
      "execution_count": null,
      "metadata": {
        "id": "qlswQalwMx3o",
        "outputId": "1eb9ef9d-245a-44e6-837b-bfb53d96b00f"
      },
      "outputs": [
        {
          "data": {
            "text/plain": [
              "['scaler.pkl']"
            ]
          },
          "execution_count": 60,
          "metadata": {},
          "output_type": "execute_result"
        }
      ],
      "source": [
        "#Guardamos el escalador\n",
        "joblib.dump(scaler, 'scaler.pkl')"
      ]
    },
    {
      "cell_type": "markdown",
      "metadata": {
        "id": "AREMtdpOMx3p"
      },
      "source": [
        "## Construcción de modelos"
      ]
    },
    {
      "cell_type": "markdown",
      "metadata": {
        "id": "0ZV2ChkVMx3p"
      },
      "source": [
        "Construimos nuestro modelo principal, que es una red neuronal con 3 capas ocultas, batch normalization y dropout."
      ]
    },
    {
      "cell_type": "code",
      "execution_count": null,
      "metadata": {
        "id": "PzPtcws7Mx3p"
      },
      "outputs": [],
      "source": [
        "#Creamos el modelo\n",
        "from tensorflow.keras import models, layers, regularizers\n",
        "def create_model(num_classes, input_dim):\n",
        "    \"\"\"\n",
        "    Modelo de red neuronal\n",
        "    \"\"\"\n",
        "    model = models.Sequential([\n",
        "        layers.InputLayer(input_shape=(input_dim,)),\n",
        "\n",
        "        # Primera capa densa\n",
        "        layers.Dense(256, kernel_regularizer=regularizers.l2(0.001)),\n",
        "        layers.Activation('relu'),\n",
        "        layers.BatchNormalization(),\n",
        "        layers.Dropout(0.3),\n",
        "\n",
        "        # Segunda capa densa\n",
        "        layers.Dense(128, kernel_regularizer=regularizers.l2(0.001)),\n",
        "        layers.Activation('relu'),\n",
        "        layers.BatchNormalization(),\n",
        "        layers.Dropout(0.2),\n",
        "\n",
        "        # Tercera capa densa\n",
        "        layers.Dense(64,  kernel_regularizer=regularizers.l2(0.001)),\n",
        "        layers.Activation('relu'),\n",
        "        layers.BatchNormalization(),\n",
        "        layers.Dropout(0.1),\n",
        "\n",
        "        # Capa de salida\n",
        "        layers.Dense(num_classes, activation='softmax')\n",
        "    ])\n",
        "\n",
        "\n",
        "    return model"
      ]
    },
    {
      "cell_type": "markdown",
      "metadata": {
        "id": "Rtl7tLYRMx3p"
      },
      "source": [
        "Creamos una función para evaluar el modelo."
      ]
    },
    {
      "cell_type": "code",
      "execution_count": null,
      "metadata": {
        "id": "n1TO0fmjMx3p"
      },
      "outputs": [],
      "source": [
        "#Función para entrenar el modelo\n",
        "def train_model(model, x_train, y_train, x_val, y_val, epochs=100, batch_size=32, patience=10, class_weight_dict=None,class_weights=None):\n",
        "    \"\"\"\n",
        "    Entrenar el modelo de red neuronal\n",
        "    \"\"\"\n",
        "    # Obtener número de clases únicas\n",
        "    n_classes = len(tf.unique(tf.cast(y_train, tf.int64))[0])\n",
        "    print(n_classes)\n",
        "\n",
        "\n",
        "    optimizer = tf.keras.optimizers.Adam(\n",
        "    # learning_rate=lr_schedule,\n",
        "    learning_rate=1e-4,\n",
        "    clipnorm=1.0\n",
        "    )\n",
        "\n",
        "    # Función de pérdida focal\n",
        "    def focal_loss(gamma=2.0):\n",
        "        def loss_fn(y_true, y_pred):\n",
        "            y_true = tf.cast(y_true, tf.int32)\n",
        "            y_true = tf.one_hot(y_true, depth=10)\n",
        "\n",
        "            cross_entropy = -y_true * tf.math.log(y_pred + K.epsilon())\n",
        "            weight = tf.pow(1 - y_pred, gamma) * y_true\n",
        "\n",
        "            return tf.reduce_mean(weight * cross_entropy)\n",
        "        return loss_fn\n",
        "\n",
        "    #Función de pérdida ponderada\n",
        "    def weighted_categorical_crossentropy(class_weights):\n",
        "        def loss(y_true, y_pred):\n",
        "            y_true = tf.cast(y_true, tf.int32)\n",
        "            weights = tf.gather(class_weights, y_true)\n",
        "            return tf.losses.sparse_categorical_crossentropy(y_true, y_pred) * weights\n",
        "        return loss\n",
        "\n",
        "\n",
        "    # Compilar el modelo con la métrica F1\n",
        "    model.compile(\n",
        "        optimizer=optimizer,\n",
        "        loss=focal_loss(),\n",
        "        # loss=weighted_categorical_crossentropy(tf.constant(class_weights, dtype=tf.float32)),\n",
        "        # loss='sparse_categorical_crossentropy',\n",
        "        metrics=['accuracy']\n",
        "    )\n",
        "\n",
        "    # Callbacks\n",
        "    reduce_lr = tf.keras.callbacks.ReduceLROnPlateau(\n",
        "        monitor='val_loss',\n",
        "        factor=0.5,\n",
        "        patience=5,\n",
        "        min_lr=1e-5,\n",
        "        verbose=1,\n",
        "    )\n",
        "\n",
        "    early_stopping = tf.keras.callbacks.EarlyStopping(\n",
        "        monitor='val_loss',\n",
        "        patience=patience,\n",
        "        restore_best_weights=True,\n",
        "        verbose=1\n",
        "    )\n",
        "\n",
        "    # Entrenamiento\n",
        "    history = model.fit(\n",
        "        x_train, y_train,\n",
        "        validation_data=(x_val, y_val),\n",
        "        class_weight=class_weight_dict,\n",
        "        epochs=epochs,\n",
        "        batch_size=batch_size,\n",
        "        callbacks=[reduce_lr, early_stopping]\n",
        "    )\n",
        "\n",
        "    return history"
      ]
    },
    {
      "cell_type": "markdown",
      "metadata": {
        "id": "B0PMJ_awMx3p"
      },
      "source": [
        "Calculamos los pesos de clase para manejar el desequilibrio de clases."
      ]
    },
    {
      "cell_type": "code",
      "execution_count": null,
      "metadata": {
        "id": "nw2pxxDMMx3p"
      },
      "outputs": [],
      "source": [
        "class_weights = compute_class_weight(\n",
        "class_weight='balanced',\n",
        "classes=np.unique(y_train),\n",
        "y=y_train)\n",
        "class_weight_dict = dict(enumerate(class_weights))"
      ]
    },
    {
      "cell_type": "markdown",
      "metadata": {
        "id": "OxWnXO8TMx3p"
      },
      "source": [
        "Entrenamos el modelo con los datos de entrenamiento. Con 100 épocas y un tamaño de lote de 256."
      ]
    },
    {
      "cell_type": "code",
      "execution_count": null,
      "metadata": {
        "id": "1cNmnnLcMx3p",
        "outputId": "946e8725-0d56-4371-c502-09ca1e2d642e"
      },
      "outputs": [
        {
          "name": "stderr",
          "output_type": "stream",
          "text": [
            "b:\\Juan Esteban\\Documentos\\RNA\\.venv\\Lib\\site-packages\\keras\\src\\layers\\core\\input_layer.py:27: UserWarning: Argument `input_shape` is deprecated. Use `shape` instead.\n",
            "  warnings.warn(\n"
          ]
        },
        {
          "name": "stdout",
          "output_type": "stream",
          "text": [
            "10\n",
            "Epoch 1/100\n",
            "\u001b[1m2600/2600\u001b[0m \u001b[32m━━━━━━━━━━━━━━━━━━━━\u001b[0m\u001b[37m\u001b[0m \u001b[1m11s\u001b[0m 4ms/step - accuracy: 0.7583 - loss: 0.2852 - val_accuracy: 0.9486 - val_loss: 0.0621 - learning_rate: 1.0000e-04\n",
            "Epoch 2/100\n",
            "\u001b[1m2600/2600\u001b[0m \u001b[32m━━━━━━━━━━━━━━━━━━━━\u001b[0m\u001b[37m\u001b[0m \u001b[1m8s\u001b[0m 3ms/step - accuracy: 0.9418 - loss: 0.0476 - val_accuracy: 0.9560 - val_loss: 0.0183 - learning_rate: 1.0000e-04\n",
            "Epoch 3/100\n",
            "\u001b[1m2600/2600\u001b[0m \u001b[32m━━━━━━━━━━━━━━━━━━━━\u001b[0m\u001b[37m\u001b[0m \u001b[1m9s\u001b[0m 3ms/step - accuracy: 0.9497 - loss: 0.0176 - val_accuracy: 0.9590 - val_loss: 0.0111 - learning_rate: 1.0000e-04\n",
            "Epoch 4/100\n",
            "\u001b[1m2600/2600\u001b[0m \u001b[32m━━━━━━━━━━━━━━━━━━━━\u001b[0m\u001b[37m\u001b[0m \u001b[1m9s\u001b[0m 3ms/step - accuracy: 0.9560 - loss: 0.0119 - val_accuracy: 0.9610 - val_loss: 0.0094 - learning_rate: 1.0000e-04\n",
            "Epoch 5/100\n",
            "\u001b[1m2600/2600\u001b[0m \u001b[32m━━━━━━━━━━━━━━━━━━━━\u001b[0m\u001b[37m\u001b[0m \u001b[1m9s\u001b[0m 3ms/step - accuracy: 0.9581 - loss: 0.0103 - val_accuracy: 0.9612 - val_loss: 0.0087 - learning_rate: 1.0000e-04\n",
            "Epoch 6/100\n",
            "\u001b[1m2600/2600\u001b[0m \u001b[32m━━━━━━━━━━━━━━━━━━━━\u001b[0m\u001b[37m\u001b[0m \u001b[1m9s\u001b[0m 3ms/step - accuracy: 0.9590 - loss: 0.0098 - val_accuracy: 0.9619 - val_loss: 0.0085 - learning_rate: 1.0000e-04\n",
            "Epoch 7/100\n",
            "\u001b[1m2600/2600\u001b[0m \u001b[32m━━━━━━━━━━━━━━━━━━━━\u001b[0m\u001b[37m\u001b[0m \u001b[1m9s\u001b[0m 3ms/step - accuracy: 0.9598 - loss: 0.0094 - val_accuracy: 0.9612 - val_loss: 0.0082 - learning_rate: 1.0000e-04\n",
            "Epoch 8/100\n",
            "\u001b[1m2600/2600\u001b[0m \u001b[32m━━━━━━━━━━━━━━━━━━━━\u001b[0m\u001b[37m\u001b[0m \u001b[1m9s\u001b[0m 3ms/step - accuracy: 0.9597 - loss: 0.0094 - val_accuracy: 0.9619 - val_loss: 0.0081 - learning_rate: 1.0000e-04\n",
            "Epoch 9/100\n",
            "\u001b[1m2600/2600\u001b[0m \u001b[32m━━━━━━━━━━━━━━━━━━━━\u001b[0m\u001b[37m\u001b[0m \u001b[1m9s\u001b[0m 3ms/step - accuracy: 0.9607 - loss: 0.0089 - val_accuracy: 0.9620 - val_loss: 0.0080 - learning_rate: 1.0000e-04\n",
            "Epoch 10/100\n",
            "\u001b[1m2600/2600\u001b[0m \u001b[32m━━━━━━━━━━━━━━━━━━━━\u001b[0m\u001b[37m\u001b[0m \u001b[1m9s\u001b[0m 3ms/step - accuracy: 0.9607 - loss: 0.0088 - val_accuracy: 0.9624 - val_loss: 0.0079 - learning_rate: 1.0000e-04\n",
            "Epoch 11/100\n",
            "\u001b[1m2600/2600\u001b[0m \u001b[32m━━━━━━━━━━━━━━━━━━━━\u001b[0m\u001b[37m\u001b[0m \u001b[1m9s\u001b[0m 3ms/step - accuracy: 0.9604 - loss: 0.0088 - val_accuracy: 0.9623 - val_loss: 0.0079 - learning_rate: 1.0000e-04\n",
            "Epoch 12/100\n",
            "\u001b[1m2600/2600\u001b[0m \u001b[32m━━━━━━━━━━━━━━━━━━━━\u001b[0m\u001b[37m\u001b[0m \u001b[1m9s\u001b[0m 3ms/step - accuracy: 0.9608 - loss: 0.0087 - val_accuracy: 0.9623 - val_loss: 0.0077 - learning_rate: 1.0000e-04\n",
            "Epoch 13/100\n",
            "\u001b[1m2600/2600\u001b[0m \u001b[32m━━━━━━━━━━━━━━━━━━━━\u001b[0m\u001b[37m\u001b[0m \u001b[1m9s\u001b[0m 4ms/step - accuracy: 0.9609 - loss: 0.0087 - val_accuracy: 0.9616 - val_loss: 0.0078 - learning_rate: 1.0000e-04\n",
            "Epoch 14/100\n",
            "\u001b[1m2600/2600\u001b[0m \u001b[32m━━━━━━━━━━━━━━━━━━━━\u001b[0m\u001b[37m\u001b[0m \u001b[1m11s\u001b[0m 4ms/step - accuracy: 0.9609 - loss: 0.0085 - val_accuracy: 0.9628 - val_loss: 0.0076 - learning_rate: 1.0000e-04\n",
            "Epoch 15/100\n",
            "\u001b[1m2600/2600\u001b[0m \u001b[32m━━━━━━━━━━━━━━━━━━━━\u001b[0m\u001b[37m\u001b[0m \u001b[1m9s\u001b[0m 4ms/step - accuracy: 0.9606 - loss: 0.0085 - val_accuracy: 0.9622 - val_loss: 0.0077 - learning_rate: 1.0000e-04\n",
            "Epoch 16/100\n",
            "\u001b[1m2600/2600\u001b[0m \u001b[32m━━━━━━━━━━━━━━━━━━━━\u001b[0m\u001b[37m\u001b[0m \u001b[1m9s\u001b[0m 3ms/step - accuracy: 0.9605 - loss: 0.0087 - val_accuracy: 0.9618 - val_loss: 0.0077 - learning_rate: 1.0000e-04\n",
            "Epoch 17/100\n",
            "\u001b[1m2600/2600\u001b[0m \u001b[32m━━━━━━━━━━━━━━━━━━━━\u001b[0m\u001b[37m\u001b[0m \u001b[1m10s\u001b[0m 4ms/step - accuracy: 0.9609 - loss: 0.0083 - val_accuracy: 0.9623 - val_loss: 0.0077 - learning_rate: 1.0000e-04\n",
            "Epoch 18/100\n",
            "\u001b[1m2600/2600\u001b[0m \u001b[32m━━━━━━━━━━━━━━━━━━━━\u001b[0m\u001b[37m\u001b[0m \u001b[1m10s\u001b[0m 4ms/step - accuracy: 0.9608 - loss: 0.0084 - val_accuracy: 0.9626 - val_loss: 0.0076 - learning_rate: 1.0000e-04\n",
            "Epoch 19/100\n",
            "\u001b[1m2599/2600\u001b[0m \u001b[32m━━━━━━━━━━━━━━━━━━━\u001b[0m\u001b[37m━\u001b[0m \u001b[1m0s\u001b[0m 4ms/step - accuracy: 0.9607 - loss: 0.0084\n",
            "Epoch 19: ReduceLROnPlateau reducing learning rate to 4.999999873689376e-05.\n",
            "\u001b[1m2600/2600\u001b[0m \u001b[32m━━━━━━━━━━━━━━━━━━━━\u001b[0m\u001b[37m\u001b[0m \u001b[1m11s\u001b[0m 4ms/step - accuracy: 0.9607 - loss: 0.0084 - val_accuracy: 0.9629 - val_loss: 0.0075 - learning_rate: 1.0000e-04\n",
            "Epoch 20/100\n",
            "\u001b[1m2600/2600\u001b[0m \u001b[32m━━━━━━━━━━━━━━━━━━━━\u001b[0m\u001b[37m\u001b[0m \u001b[1m11s\u001b[0m 4ms/step - accuracy: 0.9620 - loss: 0.0080 - val_accuracy: 0.9630 - val_loss: 0.0074 - learning_rate: 5.0000e-05\n",
            "Epoch 21/100\n",
            "\u001b[1m2600/2600\u001b[0m \u001b[32m━━━━━━━━━━━━━━━━━━━━\u001b[0m\u001b[37m\u001b[0m \u001b[1m11s\u001b[0m 4ms/step - accuracy: 0.9621 - loss: 0.0080 - val_accuracy: 0.9630 - val_loss: 0.0074 - learning_rate: 5.0000e-05\n",
            "Epoch 22/100\n",
            "\u001b[1m2600/2600\u001b[0m \u001b[32m━━━━━━━━━━━━━━━━━━━━\u001b[0m\u001b[37m\u001b[0m \u001b[1m9s\u001b[0m 4ms/step - accuracy: 0.9623 - loss: 0.0081 - val_accuracy: 0.9631 - val_loss: 0.0074 - learning_rate: 5.0000e-05\n",
            "Epoch 23/100\n",
            "\u001b[1m2600/2600\u001b[0m \u001b[32m━━━━━━━━━━━━━━━━━━━━\u001b[0m\u001b[37m\u001b[0m \u001b[1m8s\u001b[0m 3ms/step - accuracy: 0.9621 - loss: 0.0082 - val_accuracy: 0.9635 - val_loss: 0.0074 - learning_rate: 5.0000e-05\n",
            "Epoch 24/100\n",
            "\u001b[1m2600/2600\u001b[0m \u001b[32m━━━━━━━━━━━━━━━━━━━━\u001b[0m\u001b[37m\u001b[0m \u001b[1m9s\u001b[0m 3ms/step - accuracy: 0.9620 - loss: 0.0081 - val_accuracy: 0.9632 - val_loss: 0.0073 - learning_rate: 5.0000e-05\n",
            "Epoch 25/100\n",
            "\u001b[1m2599/2600\u001b[0m \u001b[32m━━━━━━━━━━━━━━━━━━━\u001b[0m\u001b[37m━\u001b[0m \u001b[1m0s\u001b[0m 3ms/step - accuracy: 0.9619 - loss: 0.0080\n",
            "Epoch 25: ReduceLROnPlateau reducing learning rate to 2.499999936844688e-05.\n",
            "\u001b[1m2600/2600\u001b[0m \u001b[32m━━━━━━━━━━━━━━━━━━━━\u001b[0m\u001b[37m\u001b[0m \u001b[1m9s\u001b[0m 3ms/step - accuracy: 0.9619 - loss: 0.0080 - val_accuracy: 0.9630 - val_loss: 0.0074 - learning_rate: 5.0000e-05\n",
            "Epoch 26/100\n",
            "\u001b[1m2600/2600\u001b[0m \u001b[32m━━━━━━━━━━━━━━━━━━━━\u001b[0m\u001b[37m\u001b[0m \u001b[1m9s\u001b[0m 3ms/step - accuracy: 0.9627 - loss: 0.0079 - val_accuracy: 0.9637 - val_loss: 0.0072 - learning_rate: 2.5000e-05\n",
            "Epoch 27/100\n",
            "\u001b[1m2600/2600\u001b[0m \u001b[32m━━━━━━━━━━━━━━━━━━━━\u001b[0m\u001b[37m\u001b[0m \u001b[1m8s\u001b[0m 3ms/step - accuracy: 0.9628 - loss: 0.0079 - val_accuracy: 0.9638 - val_loss: 0.0073 - learning_rate: 2.5000e-05\n",
            "Epoch 28/100\n",
            "\u001b[1m2600/2600\u001b[0m \u001b[32m━━━━━━━━━━━━━━━━━━━━\u001b[0m\u001b[37m\u001b[0m \u001b[1m9s\u001b[0m 3ms/step - accuracy: 0.9627 - loss: 0.0078 - val_accuracy: 0.9639 - val_loss: 0.0072 - learning_rate: 2.5000e-05\n",
            "Epoch 29/100\n",
            "\u001b[1m2600/2600\u001b[0m \u001b[32m━━━━━━━━━━━━━━━━━━━━\u001b[0m\u001b[37m\u001b[0m \u001b[1m9s\u001b[0m 3ms/step - accuracy: 0.9631 - loss: 0.0078 - val_accuracy: 0.9638 - val_loss: 0.0072 - learning_rate: 2.5000e-05\n",
            "Epoch 30/100\n",
            "\u001b[1m2600/2600\u001b[0m \u001b[32m━━━━━━━━━━━━━━━━━━━━\u001b[0m\u001b[37m\u001b[0m \u001b[1m9s\u001b[0m 3ms/step - accuracy: 0.9629 - loss: 0.0079 - val_accuracy: 0.9637 - val_loss: 0.0072 - learning_rate: 2.5000e-05\n",
            "Epoch 31/100\n",
            "\u001b[1m2600/2600\u001b[0m \u001b[32m━━━━━━━━━━━━━━━━━━━━\u001b[0m\u001b[37m\u001b[0m \u001b[1m0s\u001b[0m 3ms/step - accuracy: 0.9631 - loss: 0.0078\n",
            "Epoch 31: ReduceLROnPlateau reducing learning rate to 1.249999968422344e-05.\n",
            "\u001b[1m2600/2600\u001b[0m \u001b[32m━━━━━━━━━━━━━━━━━━━━\u001b[0m\u001b[37m\u001b[0m \u001b[1m9s\u001b[0m 3ms/step - accuracy: 0.9631 - loss: 0.0078 - val_accuracy: 0.9638 - val_loss: 0.0072 - learning_rate: 2.5000e-05\n",
            "Epoch 32/100\n",
            "\u001b[1m2600/2600\u001b[0m \u001b[32m━━━━━━━━━━━━━━━━━━━━\u001b[0m\u001b[37m\u001b[0m \u001b[1m9s\u001b[0m 3ms/step - accuracy: 0.9630 - loss: 0.0079 - val_accuracy: 0.9641 - val_loss: 0.0072 - learning_rate: 1.2500e-05\n",
            "Epoch 33/100\n",
            "\u001b[1m2600/2600\u001b[0m \u001b[32m━━━━━━━━━━━━━━━━━━━━\u001b[0m\u001b[37m\u001b[0m \u001b[1m9s\u001b[0m 3ms/step - accuracy: 0.9629 - loss: 0.0078 - val_accuracy: 0.9638 - val_loss: 0.0072 - learning_rate: 1.2500e-05\n",
            "Epoch 34/100\n",
            "\u001b[1m2600/2600\u001b[0m \u001b[32m━━━━━━━━━━━━━━━━━━━━\u001b[0m\u001b[37m\u001b[0m \u001b[1m9s\u001b[0m 3ms/step - accuracy: 0.9629 - loss: 0.0078 - val_accuracy: 0.9641 - val_loss: 0.0072 - learning_rate: 1.2500e-05\n",
            "Epoch 35/100\n",
            "\u001b[1m2600/2600\u001b[0m \u001b[32m━━━━━━━━━━━━━━━━━━━━\u001b[0m\u001b[37m\u001b[0m \u001b[1m9s\u001b[0m 3ms/step - accuracy: 0.9635 - loss: 0.0077 - val_accuracy: 0.9636 - val_loss: 0.0072 - learning_rate: 1.2500e-05\n",
            "Epoch 36/100\n",
            "\u001b[1m2591/2600\u001b[0m \u001b[32m━━━━━━━━━━━━━━━━━━━\u001b[0m\u001b[37m━\u001b[0m \u001b[1m0s\u001b[0m 3ms/step - accuracy: 0.9635 - loss: 0.0078\n",
            "Epoch 36: ReduceLROnPlateau reducing learning rate to 1e-05.\n",
            "\u001b[1m2600/2600\u001b[0m \u001b[32m━━━━━━━━━━━━━━━━━━━━\u001b[0m\u001b[37m\u001b[0m \u001b[1m9s\u001b[0m 3ms/step - accuracy: 0.9635 - loss: 0.0078 - val_accuracy: 0.9635 - val_loss: 0.0072 - learning_rate: 1.2500e-05\n",
            "Epoch 37/100\n",
            "\u001b[1m2600/2600\u001b[0m \u001b[32m━━━━━━━━━━━━━━━━━━━━\u001b[0m\u001b[37m\u001b[0m \u001b[1m9s\u001b[0m 3ms/step - accuracy: 0.9626 - loss: 0.0080 - val_accuracy: 0.9640 - val_loss: 0.0071 - learning_rate: 1.0000e-05\n",
            "Epoch 38/100\n",
            "\u001b[1m2600/2600\u001b[0m \u001b[32m━━━━━━━━━━━━━━━━━━━━\u001b[0m\u001b[37m\u001b[0m \u001b[1m9s\u001b[0m 3ms/step - accuracy: 0.9635 - loss: 0.0076 - val_accuracy: 0.9643 - val_loss: 0.0071 - learning_rate: 1.0000e-05\n",
            "Epoch 39/100\n",
            "\u001b[1m2600/2600\u001b[0m \u001b[32m━━━━━━━━━━━━━━━━━━━━\u001b[0m\u001b[37m\u001b[0m \u001b[1m8s\u001b[0m 3ms/step - accuracy: 0.9633 - loss: 0.0078 - val_accuracy: 0.9643 - val_loss: 0.0071 - learning_rate: 1.0000e-05\n",
            "Epoch 40/100\n",
            "\u001b[1m2600/2600\u001b[0m \u001b[32m━━━━━━━━━━━━━━━━━━━━\u001b[0m\u001b[37m\u001b[0m \u001b[1m9s\u001b[0m 3ms/step - accuracy: 0.9630 - loss: 0.0080 - val_accuracy: 0.9642 - val_loss: 0.0072 - learning_rate: 1.0000e-05\n",
            "Epoch 41/100\n",
            "\u001b[1m2600/2600\u001b[0m \u001b[32m━━━━━━━━━━━━━━━━━━━━\u001b[0m\u001b[37m\u001b[0m \u001b[1m9s\u001b[0m 3ms/step - accuracy: 0.9631 - loss: 0.0078 - val_accuracy: 0.9640 - val_loss: 0.0072 - learning_rate: 1.0000e-05\n",
            "Epoch 42/100\n",
            "\u001b[1m2600/2600\u001b[0m \u001b[32m━━━━━━━━━━━━━━━━━━━━\u001b[0m\u001b[37m\u001b[0m \u001b[1m9s\u001b[0m 3ms/step - accuracy: 0.9627 - loss: 0.0079 - val_accuracy: 0.9642 - val_loss: 0.0072 - learning_rate: 1.0000e-05\n",
            "Epoch 43/100\n",
            "\u001b[1m2600/2600\u001b[0m \u001b[32m━━━━━━━━━━━━━━━━━━━━\u001b[0m\u001b[37m\u001b[0m \u001b[1m9s\u001b[0m 3ms/step - accuracy: 0.9632 - loss: 0.0078 - val_accuracy: 0.9642 - val_loss: 0.0071 - learning_rate: 1.0000e-05\n",
            "Epoch 43: early stopping\n",
            "Restoring model weights from the end of the best epoch: 38.\n"
          ]
        }
      ],
      "source": [
        "model = create_model(num_classes=10, input_dim=X_train.shape[1])\n",
        "\n",
        "# Entrenar el modelo\n",
        "\n",
        "history = train_model(model,X_train_scaled, y_train, X_val_scaled, y_val, epochs=100, batch_size=256, patience=5, class_weight_dict=class_weight_dict, class_weights=class_weights)"
      ]
    },
    {
      "cell_type": "markdown",
      "metadata": {
        "id": "g3qx-1cIMx3p"
      },
      "source": [
        "Creamos una función para graficar el historial de entrenamiento."
      ]
    },
    {
      "cell_type": "code",
      "execution_count": null,
      "metadata": {
        "id": "mFrxCkLKMx3q"
      },
      "outputs": [],
      "source": [
        "\n",
        "def plot_history(history):\n",
        "    plt.figure(figsize=(12, 4))\n",
        "\n",
        "    # Loss\n",
        "    plt.subplot(1, 2, 1)\n",
        "    plt.plot(history.history['loss'], label='Training Loss')\n",
        "    plt.plot(history.history['val_loss'], label='Validation Loss')\n",
        "    plt.xlabel('Epochs')\n",
        "    plt.ylabel('Loss')\n",
        "    plt.legend()\n",
        "\n",
        "    # Accuracy\n",
        "    plt.subplot(1, 2, 2)\n",
        "    plt.plot(history.history['accuracy'] , label='Training accuracy')\n",
        "    plt.plot(history.history['val_accuracy'], label='Validation accuracy')\n",
        "    plt.xlabel('Epochs')\n",
        "    plt.ylabel('Accuracy')\n",
        "    plt.legend()\n",
        "\n",
        "    plt.show()\n"
      ]
    },
    {
      "cell_type": "code",
      "execution_count": null,
      "metadata": {
        "id": "V94CKd8oMx3q",
        "outputId": "fdb48e7e-a23b-4052-af56-1128cbc70031"
      },
      "outputs": [
        {
          "data": {
            "image/png": "[encoded data removed]",
            "text/plain": [
              "<Figure size 1200x400 with 2 Axes>"
            ]
          },
          "metadata": {},
          "output_type": "display_data"
        }
      ],
      "source": [
        "plot_history(history)"
      ]
    },
    {
      "cell_type": "code",
      "execution_count": null,
      "metadata": {
        "id": "Hu7KV_jlMx3q"
      },
      "outputs": [],
      "source": [
        "#Guardamos el modelo\n",
        "\n",
        "model.save('model.keras')"
      ]
    },
    {
      "cell_type": "code",
      "execution_count": null,
      "metadata": {
        "id": "JgVoixpTMx3q"
      },
      "outputs": [],
      "source": [
        "#Cargamos el modelo\n",
        "\n",
        "model = tf.keras.models.load_model('model.keras', compile=False)"
      ]
    },
    {
      "cell_type": "markdown",
      "metadata": {
        "id": "4jKzMYyZMx3q"
      },
      "source": [
        "### Modelo de referencia para comparación"
      ]
    },
    {
      "cell_type": "markdown",
      "metadata": {
        "id": "NDJ6vvFiMx3q"
      },
      "source": [
        "Creamos un modelo simple de redes neuronales con una sola capa oculta."
      ]
    },
    {
      "cell_type": "code",
      "execution_count": null,
      "metadata": {
        "id": "bDKbnsfWMx3q"
      },
      "outputs": [],
      "source": [
        "#Creamos un modelo simple para comparar\n",
        "\n",
        "simple_model = models.Sequential([\n",
        "    layers.InputLayer(input_shape=(X_train.shape[1],)),\n",
        "    layers.Dense(16, activation='relu'),\n",
        "    layers.Dense(5, activation='softmax')\n",
        "])\n",
        "\n",
        "simple_model.compile(\n",
        "    optimizer='adam',\n",
        "    loss='sparse_categorical_crossentropy',\n",
        "    metrics=['accuracy']\n",
        ")\n",
        "\n",
        "#Entrenamos el modelo simple\n",
        "history_simple = simple_model.fit(\n",
        "    X_train_scaled, y_train,\n",
        "    validation_data=(X_val_scaled, y_val),\n",
        "    epochs=20,\n",
        "    batch_size=256,\n",
        "    class_weight=class_weight_dict\n",
        ")"
      ]
    },
    {
      "cell_type": "code",
      "execution_count": null,
      "metadata": {
        "id": "ISDlsihSMx3q",
        "outputId": "75cd0eb6-2dd3-4cad-d341-dd00daf636d4"
      },
      "outputs": [
        {
          "data": {
            "image/png": "[encoded data removed]",
            "text/plain": [
              "<Figure size 1200x400 with 2 Axes>"
            ]
          },
          "metadata": {},
          "output_type": "display_data"
        }
      ],
      "source": [
        "plot_history(history_simple)"
      ]
    }
  ],
  "metadata": {
    "kernelspec": {
      "display_name": ".venv",
      "language": "python",
      "name": "python3"
    },
    "language_info": {
      "codemirror_mode": {
        "name": "ipython",
        "version": 3
      },
      "file_extension": ".py",
      "mimetype": "text/x-python",
      "name": "python",
      "nbconvert_exporter": "python",
      "pygments_lexer": "ipython3",
      "version": "3.12.2"
    },
    "colab": {
      "provenance": []
    }
  },
  "nbformat": 4,
  "nbformat_minor": 0
}